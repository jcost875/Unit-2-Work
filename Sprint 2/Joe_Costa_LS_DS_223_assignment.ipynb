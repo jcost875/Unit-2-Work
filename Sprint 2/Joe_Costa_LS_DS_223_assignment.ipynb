{
  "nbformat": 4,
  "nbformat_minor": 0,
  "metadata": {
    "kernelspec": {
      "display_name": "Python 3",
      "language": "python",
      "name": "python3"
    },
    "language_info": {
      "codemirror_mode": {
        "name": "ipython",
        "version": 3
      },
      "file_extension": ".py",
      "mimetype": "text/x-python",
      "name": "python",
      "nbconvert_exporter": "python",
      "pygments_lexer": "ipython3",
      "version": "3.7.6"
    },
    "colab": {
      "name": "Joe_Costa_LS_DS_223_assignment.ipynb",
      "provenance": []
    }
  },
  "cells": [
    {
      "cell_type": "markdown",
      "metadata": {
        "id": "56KeQ4UwOWgI"
      },
      "source": [
        "Lambda School Data Science\n",
        "\n",
        "*Unit 2, Sprint 2, Module 3*\n",
        "\n",
        "---"
      ]
    },
    {
      "cell_type": "markdown",
      "metadata": {
        "id": "9ZAi35FFOWgN"
      },
      "source": [
        "# Cross-Validation\n",
        "\n",
        "\n",
        "## Assignment\n",
        "- [ ] [Review requirements for your portfolio project](https://lambdaschool.github.io/ds/unit2), then submit your dataset.\n",
        "- [ ] Continue to participate in our Kaggle challenge. \n",
        "- [ ] Use scikit-learn for hyperparameter optimization with RandomizedSearchCV.\n",
        "- [ ] Submit your predictions to our Kaggle competition. (Go to our Kaggle InClass competition webpage. Use the blue **Submit Predictions** button to upload your CSV file. Or you can use the Kaggle API to submit your predictions.)\n",
        "- [ ] Commit your notebook to your fork of the GitHub repo.\n",
        "\n",
        "\n",
        "**You can't just copy** from the lesson notebook to this assignment.\n",
        "\n",
        "- Because the lesson was **regression**, but the assignment is **classification.**\n",
        "- Because the lesson used [TargetEncoder](https://contrib.scikit-learn.org/categorical-encoding/targetencoder.html), which doesn't work as-is for _multi-class_ classification.\n",
        "\n",
        "So you will have to adapt the example, which is good real-world practice.\n",
        "\n",
        "1. Use a model for classification, such as [RandomForestClassifier](https://scikit-learn.org/stable/modules/generated/sklearn.ensemble.RandomForestClassifier.html)\n",
        "2. Use hyperparameters that match the classifier, such as `randomforestclassifier__ ...`\n",
        "3. Use a metric for classification, such as [`scoring='accuracy'`](https://scikit-learn.org/stable/modules/model_evaluation.html#common-cases-predefined-values)\n",
        "4. If you’re doing a multi-class classification problem — such as whether a waterpump is functional, functional needs repair, or nonfunctional — then use a categorical encoding that works for multi-class classification, such as [OrdinalEncoder](https://contrib.scikit-learn.org/categorical-encoding/ordinal.html) (not [TargetEncoder](https://contrib.scikit-learn.org/categorical-encoding/targetencoder.html))\n",
        "\n",
        "\n",
        "\n",
        "## Stretch Goals\n",
        "\n",
        "### Reading\n",
        "- Jake VanderPlas, [Python Data Science Handbook, Chapter 5.3](https://jakevdp.github.io/PythonDataScienceHandbook/05.03-hyperparameters-and-model-validation.html), Hyperparameters and Model Validation\n",
        "- Jake VanderPlas, [Statistics for Hackers](https://speakerdeck.com/jakevdp/statistics-for-hackers?slide=107)\n",
        "- Ron Zacharski, [A Programmer's Guide to Data Mining, Chapter 5](http://guidetodatamining.com/chapter5/), 10-fold cross validation\n",
        "- Sebastian Raschka, [A Basic Pipeline and Grid Search Setup](https://github.com/rasbt/python-machine-learning-book/blob/master/code/bonus/svm_iris_pipeline_and_gridsearch.ipynb)\n",
        "- Peter Worcester, [A Comparison of Grid Search and Randomized Search Using Scikit Learn](https://blog.usejournal.com/a-comparison-of-grid-search-and-randomized-search-using-scikit-learn-29823179bc85)\n",
        "\n",
        "### Doing\n",
        "- Add your own stretch goals!\n",
        "- Try other [categorical encodings](https://contrib.scikit-learn.org/categorical-encoding/). See the previous assignment notebook for details.\n",
        "- In additon to `RandomizedSearchCV`, scikit-learn has [`GridSearchCV`](https://scikit-learn.org/stable/modules/generated/sklearn.model_selection.GridSearchCV.html). Another library called scikit-optimize has [`BayesSearchCV`](https://scikit-optimize.github.io/notebooks/sklearn-gridsearchcv-replacement.html). Experiment with these alternatives.\n",
        "- _[Introduction to Machine Learning with Python](http://shop.oreilly.com/product/0636920030515.do)_ discusses options for \"Grid-Searching Which Model To Use\" in Chapter 6:\n",
        "\n",
        "> You can even go further in combining GridSearchCV and Pipeline: it is also possible to search over the actual steps being performed in the pipeline (say whether to use StandardScaler or MinMaxScaler). This leads to an even bigger search space and should be considered carefully. Trying all possible solutions is usually not a viable machine learning strategy. However, here is an example comparing a RandomForestClassifier and an SVC ...\n",
        "\n",
        "The example is shown in [the accompanying notebook](https://github.com/amueller/introduction_to_ml_with_python/blob/master/06-algorithm-chains-and-pipelines.ipynb), code cells 35-37. Could you apply this concept to your own pipelines?\n"
      ]
    },
    {
      "cell_type": "markdown",
      "metadata": {
        "id": "AzzFnOFTOWgO"
      },
      "source": [
        "### BONUS: Stacking!\n",
        "\n",
        "Here's some code you can use to \"stack\" multiple submissions, which is another form of ensembling:\n",
        "\n",
        "```python\n",
        "import pandas as pd\n",
        "\n",
        "# Filenames of your submissions you want to ensemble\n",
        "files = ['submission-01.csv', 'submission-02.csv', 'submission-03.csv']\n",
        "\n",
        "target = 'status_group'\n",
        "submissions = (pd.read_csv(file)[[target]] for file in files)\n",
        "ensemble = pd.concat(submissions, axis='columns')\n",
        "majority_vote = ensemble.mode(axis='columns')[0]\n",
        "\n",
        "sample_submission = pd.read_csv('sample_submission.csv')\n",
        "submission = sample_submission.copy()\n",
        "submission[target] = majority_vote\n",
        "submission.to_csv('my-ultimate-ensemble-submission.csv', index=False)\n",
        "```"
      ]
    },
    {
      "cell_type": "code",
      "metadata": {
        "id": "LSQwYtrKOWgP"
      },
      "source": [
        "%%capture\n",
        "import sys\n",
        "\n",
        "# If you're on Colab:\n",
        "if 'google.colab' in sys.modules:\n",
        "    DATA_PATH = 'https://raw.githubusercontent.com/LambdaSchool/DS-Unit-2-Kaggle-Challenge/master/data/'\n",
        "    !pip install category_encoders==2.*\n",
        "\n",
        "# If you're working locally:\n",
        "else:\n",
        "    DATA_PATH = '../data/'"
      ],
      "execution_count": 144,
      "outputs": []
    },
    {
      "cell_type": "code",
      "metadata": {
        "id": "95_YQCeYoKPW"
      },
      "source": [
        "import category_encoders as ce\r\n",
        "from sklearn.pipeline import make_pipeline\r\n",
        "from category_encoders import OneHotEncoder, OrdinalEncoder\r\n",
        "from sklearn.impute import SimpleImputer\r\n",
        "from sklearn.preprocessing import StandardScaler\r\n",
        "from sklearn.ensemble import RandomForestClassifier\r\n",
        "from sklearn.model_selection import cross_val_score, GridSearchCV, RandomizedSearchCV\r\n",
        "from sklearn.compose import ColumnTransformer"
      ],
      "execution_count": 145,
      "outputs": []
    },
    {
      "cell_type": "code",
      "metadata": {
        "id": "2ZZYi4pEOWgP"
      },
      "source": [
        "import pandas as pd\n",
        "\n",
        "# Merge train_features.csv & train_labels.csv\n",
        "train = pd.merge(pd.read_csv(DATA_PATH+'waterpumps/train_features.csv'), \n",
        "                 pd.read_csv(DATA_PATH+'waterpumps/train_labels.csv'))\n",
        "\n",
        "# Read test_features.csv & sample_submission.csv\n",
        "test = pd.read_csv(DATA_PATH+'waterpumps/test_features.csv')\n",
        "sample_submission = pd.read_csv(DATA_PATH+'waterpumps/sample_submission.csv')"
      ],
      "execution_count": 146,
      "outputs": []
    },
    {
      "cell_type": "code",
      "metadata": {
        "id": "9jPgWDjAOWgP"
      },
      "source": [
        "import numpy as np\r\n",
        "\r\n",
        "# This will create a wrangle function for our data\r\n",
        "\r\n",
        "def wrangle(X):\r\n",
        "  X = X.copy()\r\n",
        "\r\n",
        "  # This will convert 'date_recorded' to datetime\r\n",
        "  X['date_recorded'] = pd.to_datetime(X['date_recorded'], infer_datetime_format=True)\r\n",
        "  # This will extract the components from 'date_recorded', then drop the now redundant\r\n",
        "  # original column\r\n",
        "  X['year_recorded'] = X['date_recorded'].dt.year\r\n",
        "  X['month_recorded'] = X['date_recorded'].dt.month\r\n",
        "  X['day_recorded'] = X['date_recorded'].dt.day\r\n",
        "  X = X.drop(columns='date_recorded')\r\n",
        "  # This will clean small latitude values\r\n",
        "  X['latitude'] = X['latitude'].replace(-2e-08, 0)\r\n",
        "  # This will engineer a new feature: Water used per person 'water_per_person'\r\n",
        "  X['water_per_person'] = X['amount_tsh'].replace({0:1})/X['population'].replace({0:1})\r\n",
        "  # This will engineer a new feature: Age of pump 'years_old' and clean the\r\n",
        "  # 'construction_year' column\r\n",
        "  X['years_old'] = X['year_recorded']-X['construction_year'].replace({0:1990})\r\n",
        "  # This will engineer a new feature: average population served per year\r\n",
        "  # 'served_per_year'\r\n",
        "  X['served_per_year'] = X['population'].replace({0:1})/X['years_old'].replace({0:1})\r\n",
        "  # This will replace remaining zeros with nulls, so that we can impute them later on\r\n",
        "  # This will also establish a \"missing\" indicator, which may be used for predictive\r\n",
        "  # purposes later on as well\r\n",
        "  cols_with_zeros = ['longitude', 'latitude', 'gps_height']\r\n",
        "  for col in cols_with_zeros:\r\n",
        "    X[col] = X[col].replace(0, np.nan)\r\n",
        "    X[col+'_MISSING'] = X[col].isnull()\r\n",
        "  # This will wash out duplicate or redundant columns\r\n",
        "  duplicates = ['quantity_group', 'payment_type']\r\n",
        "  X = X.drop(columns=duplicates)\r\n",
        "  # This will drop values that remain static or always vary, neither of which is\r\n",
        "  # useful for predictive purposes\r\n",
        "  unusable_variance = ['recorded_by']\r\n",
        "  X = X.drop(columns=unusable_variance)\r\n",
        "  # This will set index to 'id'\r\n",
        "  X.set_index(X['id'], inplace=True)\r\n",
        "\r\n",
        "  # This will return the modified dataframe\r\n",
        "  return X"
      ],
      "execution_count": 147,
      "outputs": []
    },
    {
      "cell_type": "code",
      "metadata": {
        "id": "9Wmdhf1jW_7N"
      },
      "source": [
        "df=wrangle(train)\r\n",
        "test=wrangle(test)"
      ],
      "execution_count": 148,
      "outputs": []
    },
    {
      "cell_type": "code",
      "metadata": {
        "id": "FXmHBTYfrxbR"
      },
      "source": [
        "X_train = df.drop(['status_group'], axis=1)\r\n",
        "y_train = pd.DataFrame(df['status_group'])"
      ],
      "execution_count": 149,
      "outputs": []
    },
    {
      "cell_type": "code",
      "metadata": {
        "colab": {
          "base_uri": "https://localhost:8080/",
          "height": 235
        },
        "id": "PO559zywsZ_8",
        "outputId": "17d2e186-6a84-42c3-e2f9-e4130cc8e4de"
      },
      "source": [
        "y_train.head()"
      ],
      "execution_count": 150,
      "outputs": [
        {
          "output_type": "execute_result",
          "data": {
            "text/html": [
              "<div>\n",
              "<style scoped>\n",
              "    .dataframe tbody tr th:only-of-type {\n",
              "        vertical-align: middle;\n",
              "    }\n",
              "\n",
              "    .dataframe tbody tr th {\n",
              "        vertical-align: top;\n",
              "    }\n",
              "\n",
              "    .dataframe thead th {\n",
              "        text-align: right;\n",
              "    }\n",
              "</style>\n",
              "<table border=\"1\" class=\"dataframe\">\n",
              "  <thead>\n",
              "    <tr style=\"text-align: right;\">\n",
              "      <th></th>\n",
              "      <th>status_group</th>\n",
              "    </tr>\n",
              "    <tr>\n",
              "      <th>id</th>\n",
              "      <th></th>\n",
              "    </tr>\n",
              "  </thead>\n",
              "  <tbody>\n",
              "    <tr>\n",
              "      <th>69572</th>\n",
              "      <td>functional</td>\n",
              "    </tr>\n",
              "    <tr>\n",
              "      <th>8776</th>\n",
              "      <td>functional</td>\n",
              "    </tr>\n",
              "    <tr>\n",
              "      <th>34310</th>\n",
              "      <td>functional</td>\n",
              "    </tr>\n",
              "    <tr>\n",
              "      <th>67743</th>\n",
              "      <td>non functional</td>\n",
              "    </tr>\n",
              "    <tr>\n",
              "      <th>19728</th>\n",
              "      <td>functional</td>\n",
              "    </tr>\n",
              "  </tbody>\n",
              "</table>\n",
              "</div>"
            ],
            "text/plain": [
              "         status_group\n",
              "id                   \n",
              "69572      functional\n",
              "8776       functional\n",
              "34310      functional\n",
              "67743  non functional\n",
              "19728      functional"
            ]
          },
          "metadata": {
            "tags": []
          },
          "execution_count": 150
        }
      ]
    },
    {
      "cell_type": "markdown",
      "metadata": {
        "id": "LhS1BacfdH-m"
      },
      "source": [
        "# Let's try a different approach from the last few days\r\n",
        "\r\n",
        " * Let's check for cardinality, then split our data from there\r\n",
        " * This should let us use both OneHot and Ordinal encoding for each\r\n",
        " * Afterwards, we should be able to merge them together, & pass it through the pipeline, and cross-validate."
      ]
    },
    {
      "cell_type": "code",
      "metadata": {
        "id": "1qUT7aZkedsY"
      },
      "source": [
        "# Let's create a cardinality check function\r\n",
        "\r\n",
        "def cardinality_check (n, df):\r\n",
        "  features = []\r\n",
        "  cardinality_score = []\r\n",
        "\r\n",
        "  for _ in range(len(df.columns)):\r\n",
        "    if len(df[df.columns[_]].value_counts()) > n:\r\n",
        "      features.append(df.columns[_])\r\n",
        "      cardinality_score.append(len(df[df.columns[_]].value_counts()))\r\n",
        "\r\n",
        "  feature_list = dict(zip(features, cardinality_score))\r\n",
        "\r\n",
        "  return feature_list"
      ],
      "execution_count": 151,
      "outputs": []
    },
    {
      "cell_type": "code",
      "metadata": {
        "id": "Tp5JoTCAmFK6"
      },
      "source": [
        "# This will call our function and allow us find a high cardinality cutoff point\r\n",
        "high_cardinality = cardinality_check(150, X_train)\r\n",
        "# This will repeat the process for our test data\r\n",
        "high_cardinality_test = cardinality_check(150, test)"
      ],
      "execution_count": 152,
      "outputs": []
    },
    {
      "cell_type": "code",
      "metadata": {
        "id": "qvcyyXdXmtN4"
      },
      "source": [
        "# This will create a dataframe, using the results of our function, of LOW cardinality features\r\n",
        "lc_X_train = X_train.drop(columns= list(high_cardinality.keys()))\r\n",
        "# This will repeat the process for our test data\r\n",
        "lc_X_test = test.drop(columns= list(high_cardinality_test.keys()))"
      ],
      "execution_count": 153,
      "outputs": []
    },
    {
      "cell_type": "code",
      "metadata": {
        "id": "BxIVxGWjnL87"
      },
      "source": [
        "# This will create a dataframe of HIGH cardinality features\r\n",
        "hc_X_train = X_train[list(high_cardinality.keys())]\r\n",
        "# This will repeat the process for our test data\r\n",
        "hc_X_test = test[list(high_cardinality.keys())]"
      ],
      "execution_count": 154,
      "outputs": []
    },
    {
      "cell_type": "code",
      "metadata": {
        "id": "RqFfqnGep2ru",
        "colab": {
          "base_uri": "https://localhost:8080/"
        },
        "outputId": "28e11eee-cf23-4464-d85a-75689754d9cb"
      },
      "source": [
        "one_hot = ce.OneHotEncoder(use_cat_names=True)\r\n",
        "one_hot.fit(lc_X_train, y_train['status_group'])\r\n",
        "lc_X_train = one_hot.transform(lc_X_train)"
      ],
      "execution_count": 155,
      "outputs": [
        {
          "output_type": "stream",
          "text": [
            "/usr/local/lib/python3.6/dist-packages/category_encoders/utils.py:21: FutureWarning: is_categorical is deprecated and will be removed in a future version.  Use is_categorical_dtype instead\n",
            "  elif pd.api.types.is_categorical(cols):\n"
          ],
          "name": "stderr"
        }
      ]
    },
    {
      "cell_type": "code",
      "metadata": {
        "id": "tP4CQw-d1nUI"
      },
      "source": [
        "lc_X_test = one_hot.transform(lc_X_test)"
      ],
      "execution_count": 156,
      "outputs": []
    },
    {
      "cell_type": "code",
      "metadata": {
        "id": "sNdsv7kfrNFj"
      },
      "source": [
        "ordinal = ce.OrdinalEncoder()\r\n",
        "ordinal.fit(hc_X_train, y_train['status_group'])\r\n",
        "hc_X_train = ordinal.transform(hc_X_train)"
      ],
      "execution_count": 157,
      "outputs": []
    },
    {
      "cell_type": "code",
      "metadata": {
        "id": "5KUB3FM-1_gZ"
      },
      "source": [
        "hc_X_test = ordinal.transform(hc_X_test)"
      ],
      "execution_count": 158,
      "outputs": []
    },
    {
      "cell_type": "code",
      "metadata": {
        "id": "T_oHuzn1rnIh"
      },
      "source": [
        "X_train2 = lc_X_train.merge(hc_X_train, on=lc_X_train.index)"
      ],
      "execution_count": 159,
      "outputs": []
    },
    {
      "cell_type": "code",
      "metadata": {
        "id": "S7jOx6DD5oMG"
      },
      "source": [
        "X_test2 = lc_X_test.merge(hc_X_test, on=lc_X_test.index)"
      ],
      "execution_count": 160,
      "outputs": []
    },
    {
      "cell_type": "code",
      "metadata": {
        "id": "sjRFVnS66izn"
      },
      "source": [
        "impute = SimpleImputer(missing_values=np.nan, strategy='mean')\r\n",
        "impute.fit(X_train2, y_train['status_group'])\r\n",
        "X_test2 = impute.transform(X_test2)"
      ],
      "execution_count": 161,
      "outputs": []
    },
    {
      "cell_type": "code",
      "metadata": {
        "colab": {
          "base_uri": "https://localhost:8080/"
        },
        "id": "DX-HTekMkhlT",
        "outputId": "b2ec24fd-049f-48d6-c48b-c1ce1437e17a"
      },
      "source": [
        "X_test2"
      ],
      "execution_count": 165,
      "outputs": [
        {
          "output_type": "execute_result",
          "data": {
            "text/plain": [
              "array([[5.07850000e+04, 0.00000000e+00, 0.00000000e+00, ...,\n",
              "        2.00000000e+00, 3.11526480e-03, 3.21000000e+02],\n",
              "       [5.16300000e+04, 0.00000000e+00, 0.00000000e+00, ...,\n",
              "        4.17000000e+02, 3.33333333e-03, 2.30769231e+01],\n",
              "       [1.71680000e+04, 0.00000000e+00, 0.00000000e+00, ...,\n",
              "        9.38000000e+02, 2.00000000e-03, 1.66666667e+02],\n",
              "       ...,\n",
              "       [2.87490000e+04, 0.00000000e+00, 0.00000000e+00, ...,\n",
              "        2.00000000e+00, 5.00000000e-03, 6.66666667e+01],\n",
              "       [3.34920000e+04, 0.00000000e+00, 0.00000000e+00, ...,\n",
              "        1.04400000e+03, 6.66666667e-03, 3.75000000e+01],\n",
              "       [6.87070000e+04, 0.00000000e+00, 0.00000000e+00, ...,\n",
              "        1.16000000e+02, 2.50000000e-02, 8.00000000e+00]])"
            ]
          },
          "metadata": {
            "tags": []
          },
          "execution_count": 165
        }
      ]
    },
    {
      "cell_type": "code",
      "metadata": {
        "id": "Uf0S1yglAmo2"
      },
      "source": [
        "# low_card = list(set(X_train.columns).difference(set(high_cardinality.keys())))\r\n",
        "# print(high_cardinality.keys())"
      ],
      "execution_count": 19,
      "outputs": []
    },
    {
      "cell_type": "code",
      "metadata": {
        "id": "p8sj_ywtC4TH"
      },
      "source": [
        "# X_train.select_dtypes('object').nunique().sort_values()"
      ],
      "execution_count": 20,
      "outputs": []
    },
    {
      "cell_type": "code",
      "metadata": {
        "id": "kAJDWRPt962y"
      },
      "source": [
        "# ct = ColumnTransformer([ \r\n",
        "#                        ('ohe', OneHotEncoder(use_cat_names=True), list(high_cardinality.keys())),\r\n",
        "#                        ('ordinal', OrdinalEncoder(), low_card)\r\n",
        "# ])\r\n",
        "\r\n",
        "# model = make_pipeline(\r\n",
        "#    ct,\r\n",
        "#    SimpleImputer(),\r\n",
        "#    RandomForestClassifier()\r\n",
        "# )\r\n",
        "\r\n",
        "#rf.fit(X_train, y_train)"
      ],
      "execution_count": 21,
      "outputs": []
    },
    {
      "cell_type": "code",
      "metadata": {
        "id": "p1IibiUtKhYL"
      },
      "source": [
        "# model.fit(X_train, y_train)"
      ],
      "execution_count": 22,
      "outputs": []
    },
    {
      "cell_type": "code",
      "metadata": {
        "id": "shr9sWqLEq2T"
      },
      "source": [
        "# from sklearn import set_config\r\n",
        "# set_config(display='diagram')\r\n",
        "# model"
      ],
      "execution_count": 23,
      "outputs": []
    },
    {
      "cell_type": "markdown",
      "metadata": {
        "id": "TaUdDywBuPgt"
      },
      "source": [
        "# Now that we have our modified training data, let's establish a baseline"
      ]
    },
    {
      "cell_type": "code",
      "metadata": {
        "colab": {
          "base_uri": "https://localhost:8080/"
        },
        "id": "R3g7FQh-t9Sb",
        "outputId": "59d682b0-c959-4791-abe8-0c41b8a14413"
      },
      "source": [
        "print('Baseline Accuracy is:', df['status_group'].value_counts(normalize=True).max())"
      ],
      "execution_count": 24,
      "outputs": [
        {
          "output_type": "stream",
          "text": [
            "Baseline Accuracy is: 0.543080808080808\n"
          ],
          "name": "stdout"
        }
      ]
    },
    {
      "cell_type": "markdown",
      "metadata": {
        "id": "3-IXe18kuswm"
      },
      "source": [
        "# Let's build that model!"
      ]
    },
    {
      "cell_type": "code",
      "metadata": {
        "id": "_ccxWdwYuyKo"
      },
      "source": [
        "rf = make_pipeline(\r\n",
        "    SimpleImputer(),\r\n",
        "    RandomForestClassifier()\r\n",
        ")"
      ],
      "execution_count": 25,
      "outputs": []
    },
    {
      "cell_type": "code",
      "metadata": {
        "id": "kBDE4ofRvSwr"
      },
      "source": [
        "rf_cvs = cross_val_score(rf, X_train2, y_train, cv=5, n_jobs=-1)"
      ],
      "execution_count": 26,
      "outputs": []
    },
    {
      "cell_type": "code",
      "metadata": {
        "colab": {
          "base_uri": "https://localhost:8080/"
        },
        "id": "brBcmaHLvjN8",
        "outputId": "27d56464-3f67-42ee-a194-9c59dece3719"
      },
      "source": [
        "print(rf_cvs)\r\n",
        "print(rf_cvs.mean())\r\n",
        "print(rf_cvs.std())"
      ],
      "execution_count": 27,
      "outputs": [
        {
          "output_type": "stream",
          "text": [
            "[0.81557239 0.80757576 0.81430976 0.81111111 0.80900673]\n",
            "0.8115151515151515\n",
            "0.0030412261045100314\n"
          ],
          "name": "stdout"
        }
      ]
    },
    {
      "cell_type": "code",
      "metadata": {
        "id": "Ep1QsN2_xFiV"
      },
      "source": [
        "parasect = {'randomforestclassifier__n_estimators': np.arange(20, 61, 20),\r\n",
        "         'randomforestclassifier__max_depth': np.arange(10, 31, 10),\r\n",
        "         'randomforestclassifier__max_samples': np.arange(0.3, 0.71, 0.2)}"
      ],
      "execution_count": 34,
      "outputs": []
    },
    {
      "cell_type": "code",
      "metadata": {
        "id": "2pZyKYcOx26M"
      },
      "source": [
        "rf_gs = GridSearchCV(rf, parasect, cv=5, n_jobs=-1, verbose=1)"
      ],
      "execution_count": 35,
      "outputs": []
    },
    {
      "cell_type": "code",
      "metadata": {
        "colab": {
          "base_uri": "https://localhost:8080/"
        },
        "id": "rSaEUozPRN7x",
        "outputId": "77bca191-ce8f-4c3a-fdca-b9bc03c78e81"
      },
      "source": [
        "rf_gs.fit(X_train2, y_train)"
      ],
      "execution_count": 36,
      "outputs": [
        {
          "output_type": "stream",
          "text": [
            "Fitting 5 folds for each of 27 candidates, totalling 135 fits\n"
          ],
          "name": "stdout"
        },
        {
          "output_type": "stream",
          "text": [
            "[Parallel(n_jobs=-1)]: Using backend LokyBackend with 2 concurrent workers.\n",
            "[Parallel(n_jobs=-1)]: Done  46 tasks      | elapsed:  3.1min\n",
            "[Parallel(n_jobs=-1)]: Done 135 out of 135 | elapsed: 12.2min finished\n",
            "/usr/local/lib/python3.6/dist-packages/sklearn/pipeline.py:354: DataConversionWarning: A column-vector y was passed when a 1d array was expected. Please change the shape of y to (n_samples,), for example using ravel().\n",
            "  self._final_estimator.fit(Xt, y, **fit_params)\n"
          ],
          "name": "stderr"
        },
        {
          "output_type": "execute_result",
          "data": {
            "text/plain": [
              "GridSearchCV(cv=5, error_score=nan,\n",
              "             estimator=Pipeline(memory=None,\n",
              "                                steps=[('simpleimputer',\n",
              "                                        SimpleImputer(add_indicator=False,\n",
              "                                                      copy=True,\n",
              "                                                      fill_value=None,\n",
              "                                                      missing_values=nan,\n",
              "                                                      strategy='mean',\n",
              "                                                      verbose=0)),\n",
              "                                       ('randomforestclassifier',\n",
              "                                        RandomForestClassifier(bootstrap=True,\n",
              "                                                               ccp_alpha=0.0,\n",
              "                                                               class_weight=None,\n",
              "                                                               criterion='gini',\n",
              "                                                               max_depth=None,\n",
              "                                                               max_features='auto',\n",
              "                                                               max_le...\n",
              "                                                               random_state=None,\n",
              "                                                               verbose=0,\n",
              "                                                               warm_start=False))],\n",
              "                                verbose=False),\n",
              "             iid='deprecated', n_jobs=-1,\n",
              "             param_grid={'randomforestclassifier__max_depth': array([10, 20, 30]),\n",
              "                         'randomforestclassifier__max_samples': array([0.3, 0.5, 0.7]),\n",
              "                         'randomforestclassifier__n_estimators': array([20, 40, 60])},\n",
              "             pre_dispatch='2*n_jobs', refit=True, return_train_score=False,\n",
              "             scoring=None, verbose=1)"
            ]
          },
          "metadata": {
            "tags": []
          },
          "execution_count": 36
        }
      ]
    },
    {
      "cell_type": "code",
      "metadata": {
        "colab": {
          "base_uri": "https://localhost:8080/",
          "height": 582
        },
        "id": "BGx2YN-UW-tq",
        "outputId": "a7fa5ee6-0147-4a9a-cf09-e311ddf777c1"
      },
      "source": [
        "pd.DataFrame(rf_gs.cv_results_).T"
      ],
      "execution_count": 37,
      "outputs": [
        {
          "output_type": "execute_result",
          "data": {
            "text/html": [
              "<div>\n",
              "<style scoped>\n",
              "    .dataframe tbody tr th:only-of-type {\n",
              "        vertical-align: middle;\n",
              "    }\n",
              "\n",
              "    .dataframe tbody tr th {\n",
              "        vertical-align: top;\n",
              "    }\n",
              "\n",
              "    .dataframe thead th {\n",
              "        text-align: right;\n",
              "    }\n",
              "</style>\n",
              "<table border=\"1\" class=\"dataframe\">\n",
              "  <thead>\n",
              "    <tr style=\"text-align: right;\">\n",
              "      <th></th>\n",
              "      <th>0</th>\n",
              "      <th>1</th>\n",
              "      <th>2</th>\n",
              "      <th>3</th>\n",
              "      <th>4</th>\n",
              "      <th>5</th>\n",
              "      <th>6</th>\n",
              "      <th>7</th>\n",
              "      <th>8</th>\n",
              "      <th>9</th>\n",
              "      <th>10</th>\n",
              "      <th>11</th>\n",
              "      <th>12</th>\n",
              "      <th>13</th>\n",
              "      <th>14</th>\n",
              "      <th>15</th>\n",
              "      <th>16</th>\n",
              "      <th>17</th>\n",
              "      <th>18</th>\n",
              "      <th>19</th>\n",
              "      <th>20</th>\n",
              "      <th>21</th>\n",
              "      <th>22</th>\n",
              "      <th>23</th>\n",
              "      <th>24</th>\n",
              "      <th>25</th>\n",
              "      <th>26</th>\n",
              "    </tr>\n",
              "  </thead>\n",
              "  <tbody>\n",
              "    <tr>\n",
              "      <th>mean_fit_time</th>\n",
              "      <td>5.08839</td>\n",
              "      <td>6.59831</td>\n",
              "      <td>7.81148</td>\n",
              "      <td>5.58921</td>\n",
              "      <td>7.17851</td>\n",
              "      <td>9.47306</td>\n",
              "      <td>5.7981</td>\n",
              "      <td>8.36837</td>\n",
              "      <td>10.7694</td>\n",
              "      <td>5.80597</td>\n",
              "      <td>8.50649</td>\n",
              "      <td>11.163</td>\n",
              "      <td>7.1776</td>\n",
              "      <td>10.9978</td>\n",
              "      <td>15.2064</td>\n",
              "      <td>8.11663</td>\n",
              "      <td>12.8212</td>\n",
              "      <td>17.1996</td>\n",
              "      <td>6.39737</td>\n",
              "      <td>9.26601</td>\n",
              "      <td>12.0287</td>\n",
              "      <td>7.70976</td>\n",
              "      <td>12.286</td>\n",
              "      <td>16.3171</td>\n",
              "      <td>8.95077</td>\n",
              "      <td>14.6901</td>\n",
              "      <td>18.9971</td>\n",
              "    </tr>\n",
              "    <tr>\n",
              "      <th>std_fit_time</th>\n",
              "      <td>0.0475779</td>\n",
              "      <td>0.164146</td>\n",
              "      <td>0.0485897</td>\n",
              "      <td>0.331603</td>\n",
              "      <td>0.0596261</td>\n",
              "      <td>0.0939136</td>\n",
              "      <td>0.0874622</td>\n",
              "      <td>0.084722</td>\n",
              "      <td>0.0913886</td>\n",
              "      <td>0.088532</td>\n",
              "      <td>0.0877911</td>\n",
              "      <td>0.0659265</td>\n",
              "      <td>0.0473473</td>\n",
              "      <td>0.0742625</td>\n",
              "      <td>0.287301</td>\n",
              "      <td>0.0916085</td>\n",
              "      <td>0.0396547</td>\n",
              "      <td>0.102009</td>\n",
              "      <td>0.081504</td>\n",
              "      <td>0.21281</td>\n",
              "      <td>0.13964</td>\n",
              "      <td>0.057456</td>\n",
              "      <td>0.456643</td>\n",
              "      <td>0.108441</td>\n",
              "      <td>0.200787</td>\n",
              "      <td>0.294198</td>\n",
              "      <td>1.28723</td>\n",
              "    </tr>\n",
              "    <tr>\n",
              "      <th>mean_score_time</th>\n",
              "      <td>0.519388</td>\n",
              "      <td>0.618979</td>\n",
              "      <td>0.680754</td>\n",
              "      <td>0.500821</td>\n",
              "      <td>0.585128</td>\n",
              "      <td>0.695703</td>\n",
              "      <td>0.51846</td>\n",
              "      <td>0.587565</td>\n",
              "      <td>0.675882</td>\n",
              "      <td>0.598911</td>\n",
              "      <td>0.706625</td>\n",
              "      <td>0.877566</td>\n",
              "      <td>0.590843</td>\n",
              "      <td>0.740516</td>\n",
              "      <td>0.995281</td>\n",
              "      <td>0.60538</td>\n",
              "      <td>0.764468</td>\n",
              "      <td>0.930419</td>\n",
              "      <td>0.605469</td>\n",
              "      <td>0.783531</td>\n",
              "      <td>0.965208</td>\n",
              "      <td>0.591171</td>\n",
              "      <td>0.80597</td>\n",
              "      <td>0.990371</td>\n",
              "      <td>0.641724</td>\n",
              "      <td>0.820203</td>\n",
              "      <td>0.949274</td>\n",
              "    </tr>\n",
              "    <tr>\n",
              "      <th>std_score_time</th>\n",
              "      <td>0.0241217</td>\n",
              "      <td>0.0358025</td>\n",
              "      <td>0.0247749</td>\n",
              "      <td>0.013521</td>\n",
              "      <td>0.0152694</td>\n",
              "      <td>0.0123574</td>\n",
              "      <td>0.0195576</td>\n",
              "      <td>0.0131609</td>\n",
              "      <td>0.0262943</td>\n",
              "      <td>0.0458693</td>\n",
              "      <td>0.0383571</td>\n",
              "      <td>0.0424886</td>\n",
              "      <td>0.019562</td>\n",
              "      <td>0.0294262</td>\n",
              "      <td>0.0668649</td>\n",
              "      <td>0.0327219</td>\n",
              "      <td>0.0236893</td>\n",
              "      <td>0.0122903</td>\n",
              "      <td>0.0359967</td>\n",
              "      <td>0.0240848</td>\n",
              "      <td>0.0386652</td>\n",
              "      <td>0.0199124</td>\n",
              "      <td>0.043594</td>\n",
              "      <td>0.0250197</td>\n",
              "      <td>0.0253725</td>\n",
              "      <td>0.0182081</td>\n",
              "      <td>0.131873</td>\n",
              "    </tr>\n",
              "    <tr>\n",
              "      <th>param_randomforestclassifier__max_depth</th>\n",
              "      <td>10</td>\n",
              "      <td>10</td>\n",
              "      <td>10</td>\n",
              "      <td>10</td>\n",
              "      <td>10</td>\n",
              "      <td>10</td>\n",
              "      <td>10</td>\n",
              "      <td>10</td>\n",
              "      <td>10</td>\n",
              "      <td>20</td>\n",
              "      <td>20</td>\n",
              "      <td>20</td>\n",
              "      <td>20</td>\n",
              "      <td>20</td>\n",
              "      <td>20</td>\n",
              "      <td>20</td>\n",
              "      <td>20</td>\n",
              "      <td>20</td>\n",
              "      <td>30</td>\n",
              "      <td>30</td>\n",
              "      <td>30</td>\n",
              "      <td>30</td>\n",
              "      <td>30</td>\n",
              "      <td>30</td>\n",
              "      <td>30</td>\n",
              "      <td>30</td>\n",
              "      <td>30</td>\n",
              "    </tr>\n",
              "    <tr>\n",
              "      <th>param_randomforestclassifier__max_samples</th>\n",
              "      <td>0.3</td>\n",
              "      <td>0.3</td>\n",
              "      <td>0.3</td>\n",
              "      <td>0.5</td>\n",
              "      <td>0.5</td>\n",
              "      <td>0.5</td>\n",
              "      <td>0.7</td>\n",
              "      <td>0.7</td>\n",
              "      <td>0.7</td>\n",
              "      <td>0.3</td>\n",
              "      <td>0.3</td>\n",
              "      <td>0.3</td>\n",
              "      <td>0.5</td>\n",
              "      <td>0.5</td>\n",
              "      <td>0.5</td>\n",
              "      <td>0.7</td>\n",
              "      <td>0.7</td>\n",
              "      <td>0.7</td>\n",
              "      <td>0.3</td>\n",
              "      <td>0.3</td>\n",
              "      <td>0.3</td>\n",
              "      <td>0.5</td>\n",
              "      <td>0.5</td>\n",
              "      <td>0.5</td>\n",
              "      <td>0.7</td>\n",
              "      <td>0.7</td>\n",
              "      <td>0.7</td>\n",
              "    </tr>\n",
              "    <tr>\n",
              "      <th>param_randomforestclassifier__n_estimators</th>\n",
              "      <td>20</td>\n",
              "      <td>40</td>\n",
              "      <td>60</td>\n",
              "      <td>20</td>\n",
              "      <td>40</td>\n",
              "      <td>60</td>\n",
              "      <td>20</td>\n",
              "      <td>40</td>\n",
              "      <td>60</td>\n",
              "      <td>20</td>\n",
              "      <td>40</td>\n",
              "      <td>60</td>\n",
              "      <td>20</td>\n",
              "      <td>40</td>\n",
              "      <td>60</td>\n",
              "      <td>20</td>\n",
              "      <td>40</td>\n",
              "      <td>60</td>\n",
              "      <td>20</td>\n",
              "      <td>40</td>\n",
              "      <td>60</td>\n",
              "      <td>20</td>\n",
              "      <td>40</td>\n",
              "      <td>60</td>\n",
              "      <td>20</td>\n",
              "      <td>40</td>\n",
              "      <td>60</td>\n",
              "    </tr>\n",
              "    <tr>\n",
              "      <th>params</th>\n",
              "      <td>{'randomforestclassifier__max_depth': 10, 'ran...</td>\n",
              "      <td>{'randomforestclassifier__max_depth': 10, 'ran...</td>\n",
              "      <td>{'randomforestclassifier__max_depth': 10, 'ran...</td>\n",
              "      <td>{'randomforestclassifier__max_depth': 10, 'ran...</td>\n",
              "      <td>{'randomforestclassifier__max_depth': 10, 'ran...</td>\n",
              "      <td>{'randomforestclassifier__max_depth': 10, 'ran...</td>\n",
              "      <td>{'randomforestclassifier__max_depth': 10, 'ran...</td>\n",
              "      <td>{'randomforestclassifier__max_depth': 10, 'ran...</td>\n",
              "      <td>{'randomforestclassifier__max_depth': 10, 'ran...</td>\n",
              "      <td>{'randomforestclassifier__max_depth': 20, 'ran...</td>\n",
              "      <td>{'randomforestclassifier__max_depth': 20, 'ran...</td>\n",
              "      <td>{'randomforestclassifier__max_depth': 20, 'ran...</td>\n",
              "      <td>{'randomforestclassifier__max_depth': 20, 'ran...</td>\n",
              "      <td>{'randomforestclassifier__max_depth': 20, 'ran...</td>\n",
              "      <td>{'randomforestclassifier__max_depth': 20, 'ran...</td>\n",
              "      <td>{'randomforestclassifier__max_depth': 20, 'ran...</td>\n",
              "      <td>{'randomforestclassifier__max_depth': 20, 'ran...</td>\n",
              "      <td>{'randomforestclassifier__max_depth': 20, 'ran...</td>\n",
              "      <td>{'randomforestclassifier__max_depth': 30, 'ran...</td>\n",
              "      <td>{'randomforestclassifier__max_depth': 30, 'ran...</td>\n",
              "      <td>{'randomforestclassifier__max_depth': 30, 'ran...</td>\n",
              "      <td>{'randomforestclassifier__max_depth': 30, 'ran...</td>\n",
              "      <td>{'randomforestclassifier__max_depth': 30, 'ran...</td>\n",
              "      <td>{'randomforestclassifier__max_depth': 30, 'ran...</td>\n",
              "      <td>{'randomforestclassifier__max_depth': 30, 'ran...</td>\n",
              "      <td>{'randomforestclassifier__max_depth': 30, 'ran...</td>\n",
              "      <td>{'randomforestclassifier__max_depth': 30, 'ran...</td>\n",
              "    </tr>\n",
              "    <tr>\n",
              "      <th>split0_test_score</th>\n",
              "      <td>0.748822</td>\n",
              "      <td>0.749579</td>\n",
              "      <td>0.752104</td>\n",
              "      <td>0.747475</td>\n",
              "      <td>0.752189</td>\n",
              "      <td>0.751936</td>\n",
              "      <td>0.753283</td>\n",
              "      <td>0.748485</td>\n",
              "      <td>0.752441</td>\n",
              "      <td>0.792424</td>\n",
              "      <td>0.802189</td>\n",
              "      <td>0.798401</td>\n",
              "      <td>0.798148</td>\n",
              "      <td>0.802778</td>\n",
              "      <td>0.805556</td>\n",
              "      <td>0.800421</td>\n",
              "      <td>0.805387</td>\n",
              "      <td>0.806818</td>\n",
              "      <td>0.796886</td>\n",
              "      <td>0.805724</td>\n",
              "      <td>0.80303</td>\n",
              "      <td>0.805471</td>\n",
              "      <td>0.809933</td>\n",
              "      <td>0.809933</td>\n",
              "      <td>0.80766</td>\n",
              "      <td>0.811532</td>\n",
              "      <td>0.813721</td>\n",
              "    </tr>\n",
              "    <tr>\n",
              "      <th>split1_test_score</th>\n",
              "      <td>0.743013</td>\n",
              "      <td>0.744444</td>\n",
              "      <td>0.747138</td>\n",
              "      <td>0.745875</td>\n",
              "      <td>0.74596</td>\n",
              "      <td>0.744444</td>\n",
              "      <td>0.749158</td>\n",
              "      <td>0.747054</td>\n",
              "      <td>0.74697</td>\n",
              "      <td>0.792088</td>\n",
              "      <td>0.794192</td>\n",
              "      <td>0.795034</td>\n",
              "      <td>0.793434</td>\n",
              "      <td>0.799663</td>\n",
              "      <td>0.8</td>\n",
              "      <td>0.801515</td>\n",
              "      <td>0.801431</td>\n",
              "      <td>0.804209</td>\n",
              "      <td>0.791077</td>\n",
              "      <td>0.796044</td>\n",
              "      <td>0.802609</td>\n",
              "      <td>0.799327</td>\n",
              "      <td>0.80362</td>\n",
              "      <td>0.807997</td>\n",
              "      <td>0.798737</td>\n",
              "      <td>0.806902</td>\n",
              "      <td>0.806145</td>\n",
              "    </tr>\n",
              "    <tr>\n",
              "      <th>split2_test_score</th>\n",
              "      <td>0.749242</td>\n",
              "      <td>0.751094</td>\n",
              "      <td>0.74798</td>\n",
              "      <td>0.748569</td>\n",
              "      <td>0.751936</td>\n",
              "      <td>0.751936</td>\n",
              "      <td>0.749916</td>\n",
              "      <td>0.749663</td>\n",
              "      <td>0.75</td>\n",
              "      <td>0.791835</td>\n",
              "      <td>0.798232</td>\n",
              "      <td>0.800337</td>\n",
              "      <td>0.796633</td>\n",
              "      <td>0.799158</td>\n",
              "      <td>0.805471</td>\n",
              "      <td>0.802189</td>\n",
              "      <td>0.803704</td>\n",
              "      <td>0.805808</td>\n",
              "      <td>0.801094</td>\n",
              "      <td>0.804125</td>\n",
              "      <td>0.807997</td>\n",
              "      <td>0.805556</td>\n",
              "      <td>0.808586</td>\n",
              "      <td>0.80968</td>\n",
              "      <td>0.804461</td>\n",
              "      <td>0.811027</td>\n",
              "      <td>0.8133</td>\n",
              "    </tr>\n",
              "    <tr>\n",
              "      <th>split3_test_score</th>\n",
              "      <td>0.74436</td>\n",
              "      <td>0.746465</td>\n",
              "      <td>0.747727</td>\n",
              "      <td>0.746717</td>\n",
              "      <td>0.748569</td>\n",
              "      <td>0.748569</td>\n",
              "      <td>0.746296</td>\n",
              "      <td>0.749074</td>\n",
              "      <td>0.748822</td>\n",
              "      <td>0.784259</td>\n",
              "      <td>0.791162</td>\n",
              "      <td>0.794697</td>\n",
              "      <td>0.794192</td>\n",
              "      <td>0.800084</td>\n",
              "      <td>0.799663</td>\n",
              "      <td>0.797222</td>\n",
              "      <td>0.800421</td>\n",
              "      <td>0.802357</td>\n",
              "      <td>0.795034</td>\n",
              "      <td>0.801852</td>\n",
              "      <td>0.803114</td>\n",
              "      <td>0.797138</td>\n",
              "      <td>0.805303</td>\n",
              "      <td>0.804545</td>\n",
              "      <td>0.800421</td>\n",
              "      <td>0.809343</td>\n",
              "      <td>0.807828</td>\n",
              "    </tr>\n",
              "    <tr>\n",
              "      <th>split4_test_score</th>\n",
              "      <td>0.756145</td>\n",
              "      <td>0.757576</td>\n",
              "      <td>0.757407</td>\n",
              "      <td>0.758249</td>\n",
              "      <td>0.756145</td>\n",
              "      <td>0.760438</td>\n",
              "      <td>0.758586</td>\n",
              "      <td>0.756987</td>\n",
              "      <td>0.759259</td>\n",
              "      <td>0.793098</td>\n",
              "      <td>0.795286</td>\n",
              "      <td>0.801178</td>\n",
              "      <td>0.795875</td>\n",
              "      <td>0.800758</td>\n",
              "      <td>0.802694</td>\n",
              "      <td>0.798822</td>\n",
              "      <td>0.803367</td>\n",
              "      <td>0.804882</td>\n",
              "      <td>0.795286</td>\n",
              "      <td>0.799074</td>\n",
              "      <td>0.800926</td>\n",
              "      <td>0.798906</td>\n",
              "      <td>0.806566</td>\n",
              "      <td>0.809343</td>\n",
              "      <td>0.800168</td>\n",
              "      <td>0.807912</td>\n",
              "      <td>0.807323</td>\n",
              "    </tr>\n",
              "    <tr>\n",
              "      <th>mean_test_score</th>\n",
              "      <td>0.748316</td>\n",
              "      <td>0.749832</td>\n",
              "      <td>0.750471</td>\n",
              "      <td>0.749377</td>\n",
              "      <td>0.75096</td>\n",
              "      <td>0.751465</td>\n",
              "      <td>0.751448</td>\n",
              "      <td>0.750253</td>\n",
              "      <td>0.751498</td>\n",
              "      <td>0.790741</td>\n",
              "      <td>0.796212</td>\n",
              "      <td>0.797929</td>\n",
              "      <td>0.795657</td>\n",
              "      <td>0.800488</td>\n",
              "      <td>0.802677</td>\n",
              "      <td>0.800034</td>\n",
              "      <td>0.802862</td>\n",
              "      <td>0.804815</td>\n",
              "      <td>0.795875</td>\n",
              "      <td>0.801364</td>\n",
              "      <td>0.803535</td>\n",
              "      <td>0.801279</td>\n",
              "      <td>0.806801</td>\n",
              "      <td>0.8083</td>\n",
              "      <td>0.80229</td>\n",
              "      <td>0.809343</td>\n",
              "      <td>0.809663</td>\n",
              "    </tr>\n",
              "    <tr>\n",
              "      <th>std_test_score</th>\n",
              "      <td>0.004608</td>\n",
              "      <td>0.00451637</td>\n",
              "      <td>0.00388907</td>\n",
              "      <td>0.00452377</td>\n",
              "      <td>0.00346597</td>\n",
              "      <td>0.00526551</td>\n",
              "      <td>0.00420586</td>\n",
              "      <td>0.00347675</td>\n",
              "      <td>0.00426707</td>\n",
              "      <td>0.00326834</td>\n",
              "      <td>0.0037482</td>\n",
              "      <td>0.0026611</td>\n",
              "      <td>0.00169073</td>\n",
              "      <td>0.00125914</td>\n",
              "      <td>0.00254337</td>\n",
              "      <td>0.00180896</td>\n",
              "      <td>0.00175197</td>\n",
              "      <td>0.00151084</td>\n",
              "      <td>0.00323522</td>\n",
              "      <td>0.00347609</td>\n",
              "      <td>0.0023665</td>\n",
              "      <td>0.00353431</td>\n",
              "      <td>0.00225451</td>\n",
              "      <td>0.00199237</td>\n",
              "      <td>0.00329141</td>\n",
              "      <td>0.00176808</td>\n",
              "      <td>0.00319085</td>\n",
              "    </tr>\n",
              "    <tr>\n",
              "      <th>rank_test_score</th>\n",
              "      <td>27</td>\n",
              "      <td>25</td>\n",
              "      <td>23</td>\n",
              "      <td>26</td>\n",
              "      <td>22</td>\n",
              "      <td>20</td>\n",
              "      <td>21</td>\n",
              "      <td>24</td>\n",
              "      <td>19</td>\n",
              "      <td>18</td>\n",
              "      <td>15</td>\n",
              "      <td>14</td>\n",
              "      <td>17</td>\n",
              "      <td>12</td>\n",
              "      <td>8</td>\n",
              "      <td>13</td>\n",
              "      <td>7</td>\n",
              "      <td>5</td>\n",
              "      <td>16</td>\n",
              "      <td>10</td>\n",
              "      <td>6</td>\n",
              "      <td>11</td>\n",
              "      <td>4</td>\n",
              "      <td>3</td>\n",
              "      <td>9</td>\n",
              "      <td>2</td>\n",
              "      <td>1</td>\n",
              "    </tr>\n",
              "  </tbody>\n",
              "</table>\n",
              "</div>"
            ],
            "text/plain": [
              "                                                                                           0   ...                                                 26\n",
              "mean_fit_time                                                                         5.08839  ...                                            18.9971\n",
              "std_fit_time                                                                        0.0475779  ...                                            1.28723\n",
              "mean_score_time                                                                      0.519388  ...                                           0.949274\n",
              "std_score_time                                                                      0.0241217  ...                                           0.131873\n",
              "param_randomforestclassifier__max_depth                                                    10  ...                                                 30\n",
              "param_randomforestclassifier__max_samples                                                 0.3  ...                                                0.7\n",
              "param_randomforestclassifier__n_estimators                                                 20  ...                                                 60\n",
              "params                                      {'randomforestclassifier__max_depth': 10, 'ran...  ...  {'randomforestclassifier__max_depth': 30, 'ran...\n",
              "split0_test_score                                                                    0.748822  ...                                           0.813721\n",
              "split1_test_score                                                                    0.743013  ...                                           0.806145\n",
              "split2_test_score                                                                    0.749242  ...                                             0.8133\n",
              "split3_test_score                                                                     0.74436  ...                                           0.807828\n",
              "split4_test_score                                                                    0.756145  ...                                           0.807323\n",
              "mean_test_score                                                                      0.748316  ...                                           0.809663\n",
              "std_test_score                                                                       0.004608  ...                                         0.00319085\n",
              "rank_test_score                                                                            27  ...                                                  1\n",
              "\n",
              "[16 rows x 27 columns]"
            ]
          },
          "metadata": {
            "tags": []
          },
          "execution_count": 37
        }
      ]
    },
    {
      "cell_type": "code",
      "metadata": {
        "colab": {
          "base_uri": "https://localhost:8080/"
        },
        "id": "u4QDXyElXZrn",
        "outputId": "a0ed7fd5-f35c-4cd3-8894-5f2e9e243a9a"
      },
      "source": [
        "rf_gs.best_estimator_"
      ],
      "execution_count": 38,
      "outputs": [
        {
          "output_type": "execute_result",
          "data": {
            "text/plain": [
              "Pipeline(memory=None,\n",
              "         steps=[('simpleimputer',\n",
              "                 SimpleImputer(add_indicator=False, copy=True, fill_value=None,\n",
              "                               missing_values=nan, strategy='mean',\n",
              "                               verbose=0)),\n",
              "                ('randomforestclassifier',\n",
              "                 RandomForestClassifier(bootstrap=True, ccp_alpha=0.0,\n",
              "                                        class_weight=None, criterion='gini',\n",
              "                                        max_depth=30, max_features='auto',\n",
              "                                        max_leaf_nodes=None, max_samples=0.7,\n",
              "                                        min_impurity_decrease=0.0,\n",
              "                                        min_impurity_split=None,\n",
              "                                        min_samples_leaf=1, min_samples_split=2,\n",
              "                                        min_weight_fraction_leaf=0.0,\n",
              "                                        n_estimators=60, n_jobs=None,\n",
              "                                        oob_score=False, random_state=None,\n",
              "                                        verbose=0, warm_start=False))],\n",
              "         verbose=False)"
            ]
          },
          "metadata": {
            "tags": []
          },
          "execution_count": 38
        }
      ]
    },
    {
      "cell_type": "code",
      "metadata": {
        "colab": {
          "base_uri": "https://localhost:8080/"
        },
        "id": "NwdHngYYXgKF",
        "outputId": "f3544ca9-0f4f-44bd-8cb9-cf31f4cd372b"
      },
      "source": [
        "rf_gs.best_score_"
      ],
      "execution_count": 39,
      "outputs": [
        {
          "output_type": "execute_result",
          "data": {
            "text/plain": [
              "0.8096632996632996"
            ]
          },
          "metadata": {
            "tags": []
          },
          "execution_count": 39
        }
      ]
    },
    {
      "cell_type": "code",
      "metadata": {
        "colab": {
          "base_uri": "https://localhost:8080/"
        },
        "id": "PBY_ibUIXlz6",
        "outputId": "42af5769-1717-4d77-b804-c76f8cb79bff"
      },
      "source": [
        "rf_gs.best_params_"
      ],
      "execution_count": 40,
      "outputs": [
        {
          "output_type": "execute_result",
          "data": {
            "text/plain": [
              "{'randomforestclassifier__max_depth': 30,\n",
              " 'randomforestclassifier__max_samples': 0.7,\n",
              " 'randomforestclassifier__n_estimators': 60}"
            ]
          },
          "metadata": {
            "tags": []
          },
          "execution_count": 40
        }
      ]
    },
    {
      "cell_type": "code",
      "metadata": {
        "id": "Q00GmO5gXzZe"
      },
      "source": [
        "rf_rs = RandomizedSearchCV(rf, param_distributions=parasect, n_iter=3, cv=5, n_jobs=-1, verbose=1)"
      ],
      "execution_count": 41,
      "outputs": []
    },
    {
      "cell_type": "code",
      "metadata": {
        "colab": {
          "base_uri": "https://localhost:8080/"
        },
        "id": "Ts764NziYEfp",
        "outputId": "1dd54340-a93e-46e2-e5b4-dc2467f6fc9f"
      },
      "source": [
        "rf_rs.fit(X_train2, y_train)"
      ],
      "execution_count": 42,
      "outputs": [
        {
          "output_type": "stream",
          "text": [
            "Fitting 5 folds for each of 3 candidates, totalling 15 fits\n"
          ],
          "name": "stdout"
        },
        {
          "output_type": "stream",
          "text": [
            "[Parallel(n_jobs=-1)]: Using backend LokyBackend with 2 concurrent workers.\n",
            "[Parallel(n_jobs=-1)]: Done  15 out of  15 | elapsed:  2.0min finished\n",
            "/usr/local/lib/python3.6/dist-packages/sklearn/pipeline.py:354: DataConversionWarning: A column-vector y was passed when a 1d array was expected. Please change the shape of y to (n_samples,), for example using ravel().\n",
            "  self._final_estimator.fit(Xt, y, **fit_params)\n"
          ],
          "name": "stderr"
        },
        {
          "output_type": "execute_result",
          "data": {
            "text/plain": [
              "RandomizedSearchCV(cv=5, error_score=nan,\n",
              "                   estimator=Pipeline(memory=None,\n",
              "                                      steps=[('simpleimputer',\n",
              "                                              SimpleImputer(add_indicator=False,\n",
              "                                                            copy=True,\n",
              "                                                            fill_value=None,\n",
              "                                                            missing_values=nan,\n",
              "                                                            strategy='mean',\n",
              "                                                            verbose=0)),\n",
              "                                             ('randomforestclassifier',\n",
              "                                              RandomForestClassifier(bootstrap=True,\n",
              "                                                                     ccp_alpha=0.0,\n",
              "                                                                     class_weight=None,\n",
              "                                                                     criterion='gini',\n",
              "                                                                     max_depth=None,\n",
              "                                                                     max_features='auto',...\n",
              "                                                                     warm_start=False))],\n",
              "                                      verbose=False),\n",
              "                   iid='deprecated', n_iter=3, n_jobs=-1,\n",
              "                   param_distributions={'randomforestclassifier__max_depth': array([10, 20, 30]),\n",
              "                                        'randomforestclassifier__max_samples': array([0.3, 0.5, 0.7]),\n",
              "                                        'randomforestclassifier__n_estimators': array([20, 40, 60])},\n",
              "                   pre_dispatch='2*n_jobs', random_state=None, refit=True,\n",
              "                   return_train_score=False, scoring=None, verbose=1)"
            ]
          },
          "metadata": {
            "tags": []
          },
          "execution_count": 42
        }
      ]
    },
    {
      "cell_type": "code",
      "metadata": {
        "colab": {
          "base_uri": "https://localhost:8080/"
        },
        "id": "36CCSgS6ZO37",
        "outputId": "4ddbc2c6-a9b8-41dc-d42a-9cf1ae2ae7bb"
      },
      "source": [
        "rf_rs.best_score_"
      ],
      "execution_count": 43,
      "outputs": [
        {
          "output_type": "execute_result",
          "data": {
            "text/plain": [
              "0.8093602693602694"
            ]
          },
          "metadata": {
            "tags": []
          },
          "execution_count": 43
        }
      ]
    },
    {
      "cell_type": "code",
      "metadata": {
        "colab": {
          "base_uri": "https://localhost:8080/",
          "height": 318
        },
        "id": "QaSQ2f47fc12",
        "outputId": "abc1d988-df3e-4d2a-f62a-078a12a712c6"
      },
      "source": [
        "X_test.head()"
      ],
      "execution_count": 97,
      "outputs": [
        {
          "output_type": "execute_result",
          "data": {
            "text/html": [
              "<div>\n",
              "<style scoped>\n",
              "    .dataframe tbody tr th:only-of-type {\n",
              "        vertical-align: middle;\n",
              "    }\n",
              "\n",
              "    .dataframe tbody tr th {\n",
              "        vertical-align: top;\n",
              "    }\n",
              "\n",
              "    .dataframe thead th {\n",
              "        text-align: right;\n",
              "    }\n",
              "</style>\n",
              "<table border=\"1\" class=\"dataframe\">\n",
              "  <thead>\n",
              "    <tr style=\"text-align: right;\">\n",
              "      <th></th>\n",
              "      <th>amount_tsh</th>\n",
              "      <th>num_private</th>\n",
              "      <th>basin_Lake Nyasa</th>\n",
              "      <th>basin_Lake Victoria</th>\n",
              "      <th>basin_Pangani</th>\n",
              "      <th>basin_Ruvuma / Southern Coast</th>\n",
              "      <th>basin_Internal</th>\n",
              "      <th>basin_Lake Tanganyika</th>\n",
              "      <th>basin_Wami / Ruvu</th>\n",
              "      <th>basin_Rufiji</th>\n",
              "      <th>basin_Lake Rukwa</th>\n",
              "      <th>region_Iringa</th>\n",
              "      <th>region_Mara</th>\n",
              "      <th>region_Manyara</th>\n",
              "      <th>region_Mtwara</th>\n",
              "      <th>region_Kagera</th>\n",
              "      <th>region_Tanga</th>\n",
              "      <th>region_Shinyanga</th>\n",
              "      <th>region_Tabora</th>\n",
              "      <th>region_Pwani</th>\n",
              "      <th>region_Ruvuma</th>\n",
              "      <th>region_Kilimanjaro</th>\n",
              "      <th>region_Rukwa</th>\n",
              "      <th>region_Mwanza</th>\n",
              "      <th>region_Kigoma</th>\n",
              "      <th>region_Lindi</th>\n",
              "      <th>region_Dodoma</th>\n",
              "      <th>region_Arusha</th>\n",
              "      <th>region_Mbeya</th>\n",
              "      <th>region_Singida</th>\n",
              "      <th>region_Morogoro</th>\n",
              "      <th>region_Dar es Salaam</th>\n",
              "      <th>region_code</th>\n",
              "      <th>district_code</th>\n",
              "      <th>lga_Ludewa</th>\n",
              "      <th>lga_Serengeti</th>\n",
              "      <th>lga_Simanjiro</th>\n",
              "      <th>lga_Nanyumbu</th>\n",
              "      <th>lga_Karagwe</th>\n",
              "      <th>lga_Mkinga</th>\n",
              "      <th>...</th>\n",
              "      <th>source_type_dam</th>\n",
              "      <th>source_type_borehole</th>\n",
              "      <th>source_type_other</th>\n",
              "      <th>source_type_shallow well</th>\n",
              "      <th>source_type_river/lake</th>\n",
              "      <th>source_class_groundwater</th>\n",
              "      <th>source_class_surface</th>\n",
              "      <th>source_class_unknown</th>\n",
              "      <th>waterpoint_type_communal standpipe</th>\n",
              "      <th>waterpoint_type_communal standpipe multiple</th>\n",
              "      <th>waterpoint_type_hand pump</th>\n",
              "      <th>waterpoint_type_other</th>\n",
              "      <th>waterpoint_type_improved spring</th>\n",
              "      <th>waterpoint_type_cattle trough</th>\n",
              "      <th>waterpoint_type_dam</th>\n",
              "      <th>waterpoint_type_group_communal standpipe</th>\n",
              "      <th>waterpoint_type_group_hand pump</th>\n",
              "      <th>waterpoint_type_group_other</th>\n",
              "      <th>waterpoint_type_group_improved spring</th>\n",
              "      <th>waterpoint_type_group_cattle trough</th>\n",
              "      <th>waterpoint_type_group_dam</th>\n",
              "      <th>year_recorded</th>\n",
              "      <th>month_recorded</th>\n",
              "      <th>day_recorded</th>\n",
              "      <th>years_old</th>\n",
              "      <th>longitude_MISSING</th>\n",
              "      <th>latitude_MISSING</th>\n",
              "      <th>gps_height_MISSING</th>\n",
              "      <th>funder</th>\n",
              "      <th>gps_height</th>\n",
              "      <th>installer</th>\n",
              "      <th>longitude</th>\n",
              "      <th>latitude</th>\n",
              "      <th>wpt_name</th>\n",
              "      <th>subvillage</th>\n",
              "      <th>ward</th>\n",
              "      <th>population</th>\n",
              "      <th>scheme_name</th>\n",
              "      <th>water_per_person</th>\n",
              "      <th>served_per_year</th>\n",
              "    </tr>\n",
              "    <tr>\n",
              "      <th>id</th>\n",
              "      <th></th>\n",
              "      <th></th>\n",
              "      <th></th>\n",
              "      <th></th>\n",
              "      <th></th>\n",
              "      <th></th>\n",
              "      <th></th>\n",
              "      <th></th>\n",
              "      <th></th>\n",
              "      <th></th>\n",
              "      <th></th>\n",
              "      <th></th>\n",
              "      <th></th>\n",
              "      <th></th>\n",
              "      <th></th>\n",
              "      <th></th>\n",
              "      <th></th>\n",
              "      <th></th>\n",
              "      <th></th>\n",
              "      <th></th>\n",
              "      <th></th>\n",
              "      <th></th>\n",
              "      <th></th>\n",
              "      <th></th>\n",
              "      <th></th>\n",
              "      <th></th>\n",
              "      <th></th>\n",
              "      <th></th>\n",
              "      <th></th>\n",
              "      <th></th>\n",
              "      <th></th>\n",
              "      <th></th>\n",
              "      <th></th>\n",
              "      <th></th>\n",
              "      <th></th>\n",
              "      <th></th>\n",
              "      <th></th>\n",
              "      <th></th>\n",
              "      <th></th>\n",
              "      <th></th>\n",
              "      <th></th>\n",
              "      <th></th>\n",
              "      <th></th>\n",
              "      <th></th>\n",
              "      <th></th>\n",
              "      <th></th>\n",
              "      <th></th>\n",
              "      <th></th>\n",
              "      <th></th>\n",
              "      <th></th>\n",
              "      <th></th>\n",
              "      <th></th>\n",
              "      <th></th>\n",
              "      <th></th>\n",
              "      <th></th>\n",
              "      <th></th>\n",
              "      <th></th>\n",
              "      <th></th>\n",
              "      <th></th>\n",
              "      <th></th>\n",
              "      <th></th>\n",
              "      <th></th>\n",
              "      <th></th>\n",
              "      <th></th>\n",
              "      <th></th>\n",
              "      <th></th>\n",
              "      <th></th>\n",
              "      <th></th>\n",
              "      <th></th>\n",
              "      <th></th>\n",
              "      <th></th>\n",
              "      <th></th>\n",
              "      <th></th>\n",
              "      <th></th>\n",
              "      <th></th>\n",
              "      <th></th>\n",
              "      <th></th>\n",
              "      <th></th>\n",
              "      <th></th>\n",
              "      <th></th>\n",
              "      <th></th>\n",
              "    </tr>\n",
              "  </thead>\n",
              "  <tbody>\n",
              "    <tr>\n",
              "      <th>50785</th>\n",
              "      <td>0.0</td>\n",
              "      <td>0</td>\n",
              "      <td>0</td>\n",
              "      <td>0</td>\n",
              "      <td>0</td>\n",
              "      <td>0</td>\n",
              "      <td>1</td>\n",
              "      <td>0</td>\n",
              "      <td>0</td>\n",
              "      <td>0</td>\n",
              "      <td>0</td>\n",
              "      <td>0</td>\n",
              "      <td>0</td>\n",
              "      <td>1</td>\n",
              "      <td>0</td>\n",
              "      <td>0</td>\n",
              "      <td>0</td>\n",
              "      <td>0</td>\n",
              "      <td>0</td>\n",
              "      <td>0</td>\n",
              "      <td>0</td>\n",
              "      <td>0</td>\n",
              "      <td>0</td>\n",
              "      <td>0</td>\n",
              "      <td>0</td>\n",
              "      <td>0</td>\n",
              "      <td>0</td>\n",
              "      <td>0</td>\n",
              "      <td>0</td>\n",
              "      <td>0</td>\n",
              "      <td>0</td>\n",
              "      <td>0</td>\n",
              "      <td>21</td>\n",
              "      <td>3</td>\n",
              "      <td>0</td>\n",
              "      <td>0</td>\n",
              "      <td>0</td>\n",
              "      <td>0</td>\n",
              "      <td>0</td>\n",
              "      <td>0</td>\n",
              "      <td>...</td>\n",
              "      <td>0</td>\n",
              "      <td>0</td>\n",
              "      <td>0</td>\n",
              "      <td>0</td>\n",
              "      <td>0</td>\n",
              "      <td>0</td>\n",
              "      <td>1</td>\n",
              "      <td>0</td>\n",
              "      <td>0</td>\n",
              "      <td>0</td>\n",
              "      <td>0</td>\n",
              "      <td>1</td>\n",
              "      <td>0</td>\n",
              "      <td>0</td>\n",
              "      <td>0</td>\n",
              "      <td>0</td>\n",
              "      <td>0</td>\n",
              "      <td>1</td>\n",
              "      <td>0</td>\n",
              "      <td>0</td>\n",
              "      <td>0</td>\n",
              "      <td>2013</td>\n",
              "      <td>2</td>\n",
              "      <td>4</td>\n",
              "      <td>1</td>\n",
              "      <td>False</td>\n",
              "      <td>False</td>\n",
              "      <td>False</td>\n",
              "      <td>164.0</td>\n",
              "      <td>1996.0</td>\n",
              "      <td>342.0</td>\n",
              "      <td>35.290799</td>\n",
              "      <td>-4.059696</td>\n",
              "      <td>-1.0</td>\n",
              "      <td>10944.0</td>\n",
              "      <td>574.0</td>\n",
              "      <td>321</td>\n",
              "      <td>2.0</td>\n",
              "      <td>0.003115</td>\n",
              "      <td>321.000000</td>\n",
              "    </tr>\n",
              "    <tr>\n",
              "      <th>51630</th>\n",
              "      <td>0.0</td>\n",
              "      <td>0</td>\n",
              "      <td>0</td>\n",
              "      <td>0</td>\n",
              "      <td>1</td>\n",
              "      <td>0</td>\n",
              "      <td>0</td>\n",
              "      <td>0</td>\n",
              "      <td>0</td>\n",
              "      <td>0</td>\n",
              "      <td>0</td>\n",
              "      <td>0</td>\n",
              "      <td>0</td>\n",
              "      <td>0</td>\n",
              "      <td>0</td>\n",
              "      <td>0</td>\n",
              "      <td>0</td>\n",
              "      <td>0</td>\n",
              "      <td>0</td>\n",
              "      <td>0</td>\n",
              "      <td>0</td>\n",
              "      <td>0</td>\n",
              "      <td>0</td>\n",
              "      <td>0</td>\n",
              "      <td>0</td>\n",
              "      <td>0</td>\n",
              "      <td>0</td>\n",
              "      <td>1</td>\n",
              "      <td>0</td>\n",
              "      <td>0</td>\n",
              "      <td>0</td>\n",
              "      <td>0</td>\n",
              "      <td>2</td>\n",
              "      <td>2</td>\n",
              "      <td>0</td>\n",
              "      <td>0</td>\n",
              "      <td>0</td>\n",
              "      <td>0</td>\n",
              "      <td>0</td>\n",
              "      <td>0</td>\n",
              "      <td>...</td>\n",
              "      <td>0</td>\n",
              "      <td>0</td>\n",
              "      <td>0</td>\n",
              "      <td>0</td>\n",
              "      <td>0</td>\n",
              "      <td>1</td>\n",
              "      <td>0</td>\n",
              "      <td>0</td>\n",
              "      <td>1</td>\n",
              "      <td>0</td>\n",
              "      <td>0</td>\n",
              "      <td>0</td>\n",
              "      <td>0</td>\n",
              "      <td>0</td>\n",
              "      <td>0</td>\n",
              "      <td>1</td>\n",
              "      <td>0</td>\n",
              "      <td>0</td>\n",
              "      <td>0</td>\n",
              "      <td>0</td>\n",
              "      <td>0</td>\n",
              "      <td>2013</td>\n",
              "      <td>2</td>\n",
              "      <td>4</td>\n",
              "      <td>13</td>\n",
              "      <td>False</td>\n",
              "      <td>False</td>\n",
              "      <td>False</td>\n",
              "      <td>21.0</td>\n",
              "      <td>1569.0</td>\n",
              "      <td>6.0</td>\n",
              "      <td>36.656709</td>\n",
              "      <td>-3.309214</td>\n",
              "      <td>-1.0</td>\n",
              "      <td>-1.0</td>\n",
              "      <td>368.0</td>\n",
              "      <td>300</td>\n",
              "      <td>417.0</td>\n",
              "      <td>0.003333</td>\n",
              "      <td>23.076923</td>\n",
              "    </tr>\n",
              "    <tr>\n",
              "      <th>17168</th>\n",
              "      <td>0.0</td>\n",
              "      <td>0</td>\n",
              "      <td>0</td>\n",
              "      <td>0</td>\n",
              "      <td>0</td>\n",
              "      <td>0</td>\n",
              "      <td>1</td>\n",
              "      <td>0</td>\n",
              "      <td>0</td>\n",
              "      <td>0</td>\n",
              "      <td>0</td>\n",
              "      <td>0</td>\n",
              "      <td>0</td>\n",
              "      <td>0</td>\n",
              "      <td>0</td>\n",
              "      <td>0</td>\n",
              "      <td>0</td>\n",
              "      <td>0</td>\n",
              "      <td>0</td>\n",
              "      <td>0</td>\n",
              "      <td>0</td>\n",
              "      <td>0</td>\n",
              "      <td>0</td>\n",
              "      <td>0</td>\n",
              "      <td>0</td>\n",
              "      <td>0</td>\n",
              "      <td>0</td>\n",
              "      <td>0</td>\n",
              "      <td>0</td>\n",
              "      <td>1</td>\n",
              "      <td>0</td>\n",
              "      <td>0</td>\n",
              "      <td>13</td>\n",
              "      <td>2</td>\n",
              "      <td>0</td>\n",
              "      <td>0</td>\n",
              "      <td>0</td>\n",
              "      <td>0</td>\n",
              "      <td>0</td>\n",
              "      <td>0</td>\n",
              "      <td>...</td>\n",
              "      <td>0</td>\n",
              "      <td>0</td>\n",
              "      <td>0</td>\n",
              "      <td>0</td>\n",
              "      <td>0</td>\n",
              "      <td>0</td>\n",
              "      <td>1</td>\n",
              "      <td>0</td>\n",
              "      <td>0</td>\n",
              "      <td>0</td>\n",
              "      <td>0</td>\n",
              "      <td>1</td>\n",
              "      <td>0</td>\n",
              "      <td>0</td>\n",
              "      <td>0</td>\n",
              "      <td>0</td>\n",
              "      <td>0</td>\n",
              "      <td>1</td>\n",
              "      <td>0</td>\n",
              "      <td>0</td>\n",
              "      <td>0</td>\n",
              "      <td>2013</td>\n",
              "      <td>2</td>\n",
              "      <td>1</td>\n",
              "      <td>3</td>\n",
              "      <td>False</td>\n",
              "      <td>False</td>\n",
              "      <td>False</td>\n",
              "      <td>26.0</td>\n",
              "      <td>1567.0</td>\n",
              "      <td>20.0</td>\n",
              "      <td>34.767863</td>\n",
              "      <td>-5.004344</td>\n",
              "      <td>21519.0</td>\n",
              "      <td>7345.0</td>\n",
              "      <td>648.0</td>\n",
              "      <td>500</td>\n",
              "      <td>938.0</td>\n",
              "      <td>0.002000</td>\n",
              "      <td>166.666667</td>\n",
              "    </tr>\n",
              "    <tr>\n",
              "      <th>45559</th>\n",
              "      <td>0.0</td>\n",
              "      <td>0</td>\n",
              "      <td>0</td>\n",
              "      <td>0</td>\n",
              "      <td>0</td>\n",
              "      <td>1</td>\n",
              "      <td>0</td>\n",
              "      <td>0</td>\n",
              "      <td>0</td>\n",
              "      <td>0</td>\n",
              "      <td>0</td>\n",
              "      <td>0</td>\n",
              "      <td>0</td>\n",
              "      <td>0</td>\n",
              "      <td>0</td>\n",
              "      <td>0</td>\n",
              "      <td>0</td>\n",
              "      <td>0</td>\n",
              "      <td>0</td>\n",
              "      <td>0</td>\n",
              "      <td>0</td>\n",
              "      <td>0</td>\n",
              "      <td>0</td>\n",
              "      <td>0</td>\n",
              "      <td>0</td>\n",
              "      <td>1</td>\n",
              "      <td>0</td>\n",
              "      <td>0</td>\n",
              "      <td>0</td>\n",
              "      <td>0</td>\n",
              "      <td>0</td>\n",
              "      <td>0</td>\n",
              "      <td>80</td>\n",
              "      <td>43</td>\n",
              "      <td>0</td>\n",
              "      <td>0</td>\n",
              "      <td>0</td>\n",
              "      <td>0</td>\n",
              "      <td>0</td>\n",
              "      <td>0</td>\n",
              "      <td>...</td>\n",
              "      <td>0</td>\n",
              "      <td>0</td>\n",
              "      <td>0</td>\n",
              "      <td>1</td>\n",
              "      <td>0</td>\n",
              "      <td>1</td>\n",
              "      <td>0</td>\n",
              "      <td>0</td>\n",
              "      <td>0</td>\n",
              "      <td>0</td>\n",
              "      <td>0</td>\n",
              "      <td>1</td>\n",
              "      <td>0</td>\n",
              "      <td>0</td>\n",
              "      <td>0</td>\n",
              "      <td>0</td>\n",
              "      <td>0</td>\n",
              "      <td>1</td>\n",
              "      <td>0</td>\n",
              "      <td>0</td>\n",
              "      <td>0</td>\n",
              "      <td>2013</td>\n",
              "      <td>1</td>\n",
              "      <td>22</td>\n",
              "      <td>26</td>\n",
              "      <td>False</td>\n",
              "      <td>False</td>\n",
              "      <td>False</td>\n",
              "      <td>145.0</td>\n",
              "      <td>267.0</td>\n",
              "      <td>131.0</td>\n",
              "      <td>38.058046</td>\n",
              "      <td>-9.418672</td>\n",
              "      <td>-1.0</td>\n",
              "      <td>5580.0</td>\n",
              "      <td>1796.0</td>\n",
              "      <td>250</td>\n",
              "      <td>2.0</td>\n",
              "      <td>0.004000</td>\n",
              "      <td>9.615385</td>\n",
              "    </tr>\n",
              "    <tr>\n",
              "      <th>49871</th>\n",
              "      <td>500.0</td>\n",
              "      <td>0</td>\n",
              "      <td>0</td>\n",
              "      <td>0</td>\n",
              "      <td>0</td>\n",
              "      <td>1</td>\n",
              "      <td>0</td>\n",
              "      <td>0</td>\n",
              "      <td>0</td>\n",
              "      <td>0</td>\n",
              "      <td>0</td>\n",
              "      <td>0</td>\n",
              "      <td>0</td>\n",
              "      <td>0</td>\n",
              "      <td>0</td>\n",
              "      <td>0</td>\n",
              "      <td>0</td>\n",
              "      <td>0</td>\n",
              "      <td>0</td>\n",
              "      <td>0</td>\n",
              "      <td>1</td>\n",
              "      <td>0</td>\n",
              "      <td>0</td>\n",
              "      <td>0</td>\n",
              "      <td>0</td>\n",
              "      <td>0</td>\n",
              "      <td>0</td>\n",
              "      <td>0</td>\n",
              "      <td>0</td>\n",
              "      <td>0</td>\n",
              "      <td>0</td>\n",
              "      <td>0</td>\n",
              "      <td>10</td>\n",
              "      <td>3</td>\n",
              "      <td>0</td>\n",
              "      <td>0</td>\n",
              "      <td>0</td>\n",
              "      <td>0</td>\n",
              "      <td>0</td>\n",
              "      <td>0</td>\n",
              "      <td>...</td>\n",
              "      <td>0</td>\n",
              "      <td>0</td>\n",
              "      <td>0</td>\n",
              "      <td>0</td>\n",
              "      <td>0</td>\n",
              "      <td>1</td>\n",
              "      <td>0</td>\n",
              "      <td>0</td>\n",
              "      <td>1</td>\n",
              "      <td>0</td>\n",
              "      <td>0</td>\n",
              "      <td>0</td>\n",
              "      <td>0</td>\n",
              "      <td>0</td>\n",
              "      <td>0</td>\n",
              "      <td>1</td>\n",
              "      <td>0</td>\n",
              "      <td>0</td>\n",
              "      <td>0</td>\n",
              "      <td>0</td>\n",
              "      <td>0</td>\n",
              "      <td>2013</td>\n",
              "      <td>3</td>\n",
              "      <td>27</td>\n",
              "      <td>13</td>\n",
              "      <td>False</td>\n",
              "      <td>False</td>\n",
              "      <td>False</td>\n",
              "      <td>1038.0</td>\n",
              "      <td>1260.0</td>\n",
              "      <td>1133.0</td>\n",
              "      <td>35.006123</td>\n",
              "      <td>-10.950412</td>\n",
              "      <td>2985.0</td>\n",
              "      <td>2891.0</td>\n",
              "      <td>654.0</td>\n",
              "      <td>60</td>\n",
              "      <td>319.0</td>\n",
              "      <td>8.333333</td>\n",
              "      <td>4.615385</td>\n",
              "    </tr>\n",
              "  </tbody>\n",
              "</table>\n",
              "<p>5 rows × 312 columns</p>\n",
              "</div>"
            ],
            "text/plain": [
              "       amount_tsh  num_private  ...  water_per_person  served_per_year\n",
              "id                              ...                                   \n",
              "50785         0.0            0  ...          0.003115       321.000000\n",
              "51630         0.0            0  ...          0.003333        23.076923\n",
              "17168         0.0            0  ...          0.002000       166.666667\n",
              "45559         0.0            0  ...          0.004000         9.615385\n",
              "49871       500.0            0  ...          8.333333         4.615385\n",
              "\n",
              "[5 rows x 312 columns]"
            ]
          },
          "metadata": {
            "tags": []
          },
          "execution_count": 97
        }
      ]
    },
    {
      "cell_type": "code",
      "metadata": {
        "colab": {
          "base_uri": "https://localhost:8080/"
        },
        "id": "LrjMd2OtiqHk",
        "outputId": "72140751-cf1a-4243-e45f-a0840b9a5bbd"
      },
      "source": [
        "X_test.shape"
      ],
      "execution_count": 99,
      "outputs": [
        {
          "output_type": "execute_result",
          "data": {
            "text/plain": [
              "(14358, 312)"
            ]
          },
          "metadata": {
            "tags": []
          },
          "execution_count": 99
        }
      ]
    },
    {
      "cell_type": "code",
      "metadata": {
        "id": "GlU7sLKvZWsB"
      },
      "source": [
        "y_pred = rf_rs.predict(X_test)"
      ],
      "execution_count": 125,
      "outputs": []
    },
    {
      "cell_type": "code",
      "metadata": {
        "colab": {
          "base_uri": "https://localhost:8080/"
        },
        "id": "rxBexmYDZ4e9",
        "outputId": "b3016e21-b1d9-4299-de3b-0f3be0922a74"
      },
      "source": [
        "y_pred"
      ],
      "execution_count": 68,
      "outputs": [
        {
          "output_type": "execute_result",
          "data": {
            "text/plain": [
              "array(['non functional', 'functional', 'functional', ..., 'functional',\n",
              "       'functional', 'non functional'], dtype=object)"
            ]
          },
          "metadata": {
            "tags": []
          },
          "execution_count": 68
        }
      ]
    },
    {
      "cell_type": "code",
      "metadata": {
        "id": "crWfbsysZo3V"
      },
      "source": [
        "data = {'id': test.index, 'status_group': y_pred}\r\n",
        "submission = pd.DataFrame(data)"
      ],
      "execution_count": 167,
      "outputs": []
    },
    {
      "cell_type": "code",
      "metadata": {
        "colab": {
          "base_uri": "https://localhost:8080/",
          "height": 204
        },
        "id": "89fszm59fw_d",
        "outputId": "00a454e4-fc6a-4a20-d647-bcecae7efc1e"
      },
      "source": [
        "submission.head()"
      ],
      "execution_count": 168,
      "outputs": [
        {
          "output_type": "execute_result",
          "data": {
            "text/html": [
              "<div>\n",
              "<style scoped>\n",
              "    .dataframe tbody tr th:only-of-type {\n",
              "        vertical-align: middle;\n",
              "    }\n",
              "\n",
              "    .dataframe tbody tr th {\n",
              "        vertical-align: top;\n",
              "    }\n",
              "\n",
              "    .dataframe thead th {\n",
              "        text-align: right;\n",
              "    }\n",
              "</style>\n",
              "<table border=\"1\" class=\"dataframe\">\n",
              "  <thead>\n",
              "    <tr style=\"text-align: right;\">\n",
              "      <th></th>\n",
              "      <th>id</th>\n",
              "      <th>status_group</th>\n",
              "    </tr>\n",
              "  </thead>\n",
              "  <tbody>\n",
              "    <tr>\n",
              "      <th>0</th>\n",
              "      <td>50785</td>\n",
              "      <td>non functional</td>\n",
              "    </tr>\n",
              "    <tr>\n",
              "      <th>1</th>\n",
              "      <td>51630</td>\n",
              "      <td>functional</td>\n",
              "    </tr>\n",
              "    <tr>\n",
              "      <th>2</th>\n",
              "      <td>17168</td>\n",
              "      <td>functional</td>\n",
              "    </tr>\n",
              "    <tr>\n",
              "      <th>3</th>\n",
              "      <td>45559</td>\n",
              "      <td>non functional</td>\n",
              "    </tr>\n",
              "    <tr>\n",
              "      <th>4</th>\n",
              "      <td>49871</td>\n",
              "      <td>functional</td>\n",
              "    </tr>\n",
              "  </tbody>\n",
              "</table>\n",
              "</div>"
            ],
            "text/plain": [
              "      id    status_group\n",
              "0  50785  non functional\n",
              "1  51630      functional\n",
              "2  17168      functional\n",
              "3  45559  non functional\n",
              "4  49871      functional"
            ]
          },
          "metadata": {
            "tags": []
          },
          "execution_count": 168
        }
      ]
    },
    {
      "cell_type": "code",
      "metadata": {
        "id": "SNPFSZn0l5r2"
      },
      "source": [
        "submission.set_index('id', inplace=True)"
      ],
      "execution_count": 170,
      "outputs": []
    },
    {
      "cell_type": "code",
      "metadata": {
        "colab": {
          "base_uri": "https://localhost:8080/",
          "height": 235
        },
        "id": "BKzs0tevmGbK",
        "outputId": "05f22837-3c78-4f7d-ac54-062f477b5460"
      },
      "source": [
        "submission.head()"
      ],
      "execution_count": 171,
      "outputs": [
        {
          "output_type": "execute_result",
          "data": {
            "text/html": [
              "<div>\n",
              "<style scoped>\n",
              "    .dataframe tbody tr th:only-of-type {\n",
              "        vertical-align: middle;\n",
              "    }\n",
              "\n",
              "    .dataframe tbody tr th {\n",
              "        vertical-align: top;\n",
              "    }\n",
              "\n",
              "    .dataframe thead th {\n",
              "        text-align: right;\n",
              "    }\n",
              "</style>\n",
              "<table border=\"1\" class=\"dataframe\">\n",
              "  <thead>\n",
              "    <tr style=\"text-align: right;\">\n",
              "      <th></th>\n",
              "      <th>status_group</th>\n",
              "    </tr>\n",
              "    <tr>\n",
              "      <th>id</th>\n",
              "      <th></th>\n",
              "    </tr>\n",
              "  </thead>\n",
              "  <tbody>\n",
              "    <tr>\n",
              "      <th>50785</th>\n",
              "      <td>non functional</td>\n",
              "    </tr>\n",
              "    <tr>\n",
              "      <th>51630</th>\n",
              "      <td>functional</td>\n",
              "    </tr>\n",
              "    <tr>\n",
              "      <th>17168</th>\n",
              "      <td>functional</td>\n",
              "    </tr>\n",
              "    <tr>\n",
              "      <th>45559</th>\n",
              "      <td>non functional</td>\n",
              "    </tr>\n",
              "    <tr>\n",
              "      <th>49871</th>\n",
              "      <td>functional</td>\n",
              "    </tr>\n",
              "  </tbody>\n",
              "</table>\n",
              "</div>"
            ],
            "text/plain": [
              "         status_group\n",
              "id                   \n",
              "50785  non functional\n",
              "51630      functional\n",
              "17168      functional\n",
              "45559  non functional\n",
              "49871      functional"
            ]
          },
          "metadata": {
            "tags": []
          },
          "execution_count": 171
        }
      ]
    },
    {
      "cell_type": "code",
      "metadata": {
        "id": "SvUPtyVZla6y"
      },
      "source": [
        "submission.to_csv('Submission3.csv')"
      ],
      "execution_count": 172,
      "outputs": []
    }
  ]
}