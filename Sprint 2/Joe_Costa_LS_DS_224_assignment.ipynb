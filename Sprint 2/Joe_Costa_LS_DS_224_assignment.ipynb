{
  "nbformat": 4,
  "nbformat_minor": 0,
  "metadata": {
    "kernelspec": {
      "display_name": "Python 3",
      "language": "python",
      "name": "python3"
    },
    "language_info": {
      "codemirror_mode": {
        "name": "ipython",
        "version": 3
      },
      "file_extension": ".py",
      "mimetype": "text/x-python",
      "name": "python",
      "nbconvert_exporter": "python",
      "pygments_lexer": "ipython3",
      "version": "3.7.3"
    },
    "colab": {
      "name": "Joe_Costa_LS_DS_224_assignment.ipynb",
      "provenance": []
    }
  },
  "cells": [
    {
      "cell_type": "markdown",
      "metadata": {
        "id": "g2tnI7bvcZT7"
      },
      "source": [
        "Lambda School Data Science\n",
        "\n",
        "*Unit 2, Sprint 2, Module 4*\n",
        "\n",
        "---"
      ]
    },
    {
      "cell_type": "markdown",
      "metadata": {
        "id": "nCc3XZEyG3XV"
      },
      "source": [
        "# Classification Metrics\n",
        "\n",
        "## Assignment\n",
        "- [ ] If you haven't yet, [review requirements for your portfolio project](https://lambdaschool.github.io/ds/unit2), then submit your dataset.\n",
        "- [ ] Plot a confusion matrix for your Tanzania Waterpumps model.\n",
        "- [ ] Continue to participate in our Kaggle challenge. Every student should have made at least one submission that scores at least 70% accuracy (well above the majority class baseline).\n",
        "- [ ] Submit your final predictions to our Kaggle competition. Optionally, go to **My Submissions**, and _\"you may select up to 1 submission to be used to count towards your final leaderboard score.\"_\n",
        "- [ ] Commit your notebook to your fork of the GitHub repo.\n",
        "- [ ] Read [Maximizing Scarce Maintenance Resources with Data: Applying predictive modeling, precision at k, and clustering to optimize impact](http://archive.is/DelgE), by Lambda DS3 student Michael Brady. His blog post extends the Tanzania Waterpumps scenario, far beyond what's in the lecture notebook.\n",
        "\n",
        "\n",
        "## Stretch Goals\n",
        "\n",
        "### Reading\n",
        "\n",
        "- [Attacking discrimination with smarter machine learning](https://research.google.com/bigpicture/attacking-discrimination-in-ml/), by Google Research, with  interactive visualizations. _\"A threshold classifier essentially makes a yes/no decision, putting things in one category or another. We look at how these classifiers work, ways they can potentially be unfair, and how you might turn an unfair classifier into a fairer one. As an illustrative example, we focus on loan granting scenarios where a bank may grant or deny a loan based on a single, automatically computed number such as a credit score.\"_\n",
        "- [Notebook about how to calculate expected value from a confusion matrix by treating it as a cost-benefit matrix](https://github.com/podopie/DAT18NYC/blob/master/classes/13-expected_value_cost_benefit_analysis.ipynb)\n",
        "- [Visualizing Machine Learning Thresholds to Make Better Business Decisions](https://blog.insightdatascience.com/visualizing-machine-learning-thresholds-to-make-better-business-decisions-4ab07f823415)\n",
        "\n",
        "\n",
        "### Doing\n",
        "- [ ] Share visualizations in our Slack channel!\n",
        "- [ ] RandomizedSearchCV / GridSearchCV, for model selection. (See module 3 assignment notebook)\n",
        "- [ ] Stacking Ensemble. (See module 3 assignment notebook)\n",
        "- [ ] More Categorical Encoding. (See module 2 assignment notebook)"
      ]
    },
    {
      "cell_type": "code",
      "metadata": {
        "id": "lsbRiKBoB5RE"
      },
      "source": [
        "%%capture\n",
        "import sys\n",
        "\n",
        "# If you're on Colab:\n",
        "if 'google.colab' in sys.modules:\n",
        "    DATA_PATH = 'https://raw.githubusercontent.com/LambdaSchool/DS-Unit-2-Kaggle-Challenge/master/data/'\n",
        "    !pip install category_encoders==2.*\n",
        "\n",
        "# If you're working locally:\n",
        "else:\n",
        "    DATA_PATH = '../data/'"
      ],
      "execution_count": null,
      "outputs": []
    },
    {
      "cell_type": "code",
      "metadata": {
        "id": "BVA1lph8CcNX"
      },
      "source": [
        "import pandas as pd\n",
        "\n",
        "# Merge train_features.csv & train_labels.csv\n",
        "train = pd.merge(pd.read_csv(DATA_PATH+'waterpumps/train_features.csv'), \n",
        "                 pd.read_csv(DATA_PATH+'waterpumps/train_labels.csv'))\n",
        "\n",
        "# Read test_features.csv & sample_submission.csv\n",
        "test = pd.read_csv(DATA_PATH+'waterpumps/test_features.csv')\n",
        "sample_submission = pd.read_csv(DATA_PATH+'waterpumps/sample_submission.csv')"
      ],
      "execution_count": null,
      "outputs": []
    },
    {
      "cell_type": "code",
      "metadata": {
        "id": "z3e4Q16ZcZUC"
      },
      "source": [
        "import category_encoders as ce\r\n",
        "from sklearn.pipeline import make_pipeline\r\n",
        "from category_encoders import OneHotEncoder, OrdinalEncoder\r\n",
        "from sklearn.impute import SimpleImputer\r\n",
        "from sklearn.preprocessing import StandardScaler\r\n",
        "from sklearn.ensemble import RandomForestClassifier\r\n",
        "from sklearn.model_selection import cross_val_score, GridSearchCV, RandomizedSearchCV\r\n",
        "from sklearn.compose import ColumnTransformer"
      ],
      "execution_count": null,
      "outputs": []
    },
    {
      "cell_type": "code",
      "metadata": {
        "id": "dvdeCieOhaA8"
      },
      "source": [
        "import numpy as np\r\n",
        "\r\n",
        "# This will create a wrangle function for our data\r\n",
        "\r\n",
        "def wrangle(X):\r\n",
        "  X = X.copy()\r\n",
        "\r\n",
        "  # This will convert 'date_recorded' to datetime\r\n",
        "  X['date_recorded'] = pd.to_datetime(X['date_recorded'], infer_datetime_format=True)\r\n",
        "  # This will extract the components from 'date_recorded', then drop the now redundant\r\n",
        "  # original column\r\n",
        "  X['year_recorded'] = X['date_recorded'].dt.year\r\n",
        "  X['month_recorded'] = X['date_recorded'].dt.month\r\n",
        "  X['day_recorded'] = X['date_recorded'].dt.day\r\n",
        "  X = X.drop(columns='date_recorded')\r\n",
        "  # This will clean small latitude values\r\n",
        "  X['latitude'] = X['latitude'].replace(-2e-08, 0)\r\n",
        "  # This will engineer a new feature: Water used per person 'water_per_person'\r\n",
        "  X['water_per_person'] = X['amount_tsh'].replace({0:1})/X['population'].replace({0:1})\r\n",
        "  # This will engineer a new feature: Age of pump 'years_old' and clean the\r\n",
        "  # 'construction_year' column\r\n",
        "  X['years_old'] = X['year_recorded']-X['construction_year'].replace({0:1990})\r\n",
        "  # This will engineer a new feature: average population served per year\r\n",
        "  # 'served_per_year'\r\n",
        "  X['served_per_year'] = X['population'].replace({0:1})/X['years_old'].replace({0:1})\r\n",
        "  # This will replace remaining zeros with nulls, so that we can impute them later on\r\n",
        "  # This will also establish a \"missing\" indicator, which may be used for predictive\r\n",
        "  # purposes later on as well\r\n",
        "  cols_with_zeros = ['longitude', 'latitude', 'gps_height']\r\n",
        "  for col in cols_with_zeros:\r\n",
        "    X[col] = X[col].replace(0, np.nan)\r\n",
        "    X[col+'_MISSING'] = X[col].isnull()\r\n",
        "  # This will wash out duplicate or redundant columns\r\n",
        "  duplicates = ['quantity_group', 'payment_type']\r\n",
        "  X = X.drop(columns=duplicates)\r\n",
        "  # This will drop values that remain static or always vary, neither of which is\r\n",
        "  # useful for predictive purposes\r\n",
        "  unusable_variance = ['recorded_by']\r\n",
        "  X = X.drop(columns=unusable_variance)\r\n",
        "  # This will set index to 'id'\r\n",
        "  X.set_index(X['id'], inplace=True)\r\n",
        "\r\n",
        "  # This will return the modified dataframe\r\n",
        "  return X"
      ],
      "execution_count": null,
      "outputs": []
    },
    {
      "cell_type": "code",
      "metadata": {
        "id": "c3y4WI10hiDJ"
      },
      "source": [
        "df=wrangle(train)\r\n",
        "test=wrangle(test)"
      ],
      "execution_count": null,
      "outputs": []
    },
    {
      "cell_type": "code",
      "metadata": {
        "id": "F1Y6q6M7hjry"
      },
      "source": [
        "X_train = df.drop(['status_group'], axis=1)\r\n",
        "y_train = pd.DataFrame(df['status_group'])"
      ],
      "execution_count": null,
      "outputs": []
    },
    {
      "cell_type": "code",
      "metadata": {
        "id": "8vJCAns9hmMi"
      },
      "source": [
        "# Let's create a cardinality check function\r\n",
        "\r\n",
        "def cardinality_check (n, df):\r\n",
        "  features = []\r\n",
        "  cardinality_score = []\r\n",
        "\r\n",
        "  for _ in range(len(df.columns)):\r\n",
        "    if len(df[df.columns[_]].value_counts()) > n:\r\n",
        "      features.append(df.columns[_])\r\n",
        "      cardinality_score.append(len(df[df.columns[_]].value_counts()))\r\n",
        "\r\n",
        "  feature_list = dict(zip(features, cardinality_score))\r\n",
        "\r\n",
        "  return feature_list"
      ],
      "execution_count": null,
      "outputs": []
    },
    {
      "cell_type": "code",
      "metadata": {
        "id": "IysoS1uqhori"
      },
      "source": [
        "# This will call our function and allow us find a high cardinality cutoff point\r\n",
        "high_cardinality = cardinality_check(150, X_train)\r\n",
        "# This will repeat the process for our test data\r\n",
        "high_cardinality_test = cardinality_check(150, test)"
      ],
      "execution_count": null,
      "outputs": []
    },
    {
      "cell_type": "code",
      "metadata": {
        "id": "P-EKheVbhq-Z"
      },
      "source": [
        "# This will create a dataframe, using the results of our function, of LOW cardinality features\r\n",
        "lc_X_train = X_train.drop(columns= list(high_cardinality.keys()))\r\n",
        "# This will repeat the process for our test data\r\n",
        "lc_X_test = test.drop(columns= list(high_cardinality_test.keys()))"
      ],
      "execution_count": null,
      "outputs": []
    },
    {
      "cell_type": "code",
      "metadata": {
        "id": "uNe9-x0EhtHy"
      },
      "source": [
        "# This will create a dataframe of HIGH cardinality features\r\n",
        "hc_X_train = X_train[list(high_cardinality.keys())]\r\n",
        "# This will repeat the process for our test data\r\n",
        "hc_X_test = test[list(high_cardinality.keys())]"
      ],
      "execution_count": null,
      "outputs": []
    },
    {
      "cell_type": "code",
      "metadata": {
        "colab": {
          "base_uri": "https://localhost:8080/"
        },
        "id": "oxwC7uOYhtzj",
        "outputId": "14c00616-164e-45c2-8edf-8f7b16d9972f"
      },
      "source": [
        "one_hot = ce.OneHotEncoder(use_cat_names=True)\r\n",
        "one_hot.fit(lc_X_train, y_train['status_group'])\r\n",
        "lc_X_train = one_hot.transform(lc_X_train)"
      ],
      "execution_count": null,
      "outputs": [
        {
          "output_type": "stream",
          "text": [
            "/usr/local/lib/python3.6/dist-packages/category_encoders/utils.py:21: FutureWarning: is_categorical is deprecated and will be removed in a future version.  Use is_categorical_dtype instead\n",
            "  elif pd.api.types.is_categorical(cols):\n"
          ],
          "name": "stderr"
        }
      ]
    },
    {
      "cell_type": "code",
      "metadata": {
        "id": "8bc2yYK2h2Su"
      },
      "source": [
        "lc_X_test = one_hot.transform(lc_X_test)"
      ],
      "execution_count": null,
      "outputs": []
    },
    {
      "cell_type": "code",
      "metadata": {
        "id": "swJstp9Rh4ue"
      },
      "source": [
        "ordinal = ce.OrdinalEncoder()\r\n",
        "ordinal.fit(hc_X_train, y_train['status_group'])\r\n",
        "hc_X_train = ordinal.transform(hc_X_train)"
      ],
      "execution_count": null,
      "outputs": []
    },
    {
      "cell_type": "code",
      "metadata": {
        "id": "ubcEkbZeh6rz"
      },
      "source": [
        "hc_X_test = ordinal.transform(hc_X_test)"
      ],
      "execution_count": null,
      "outputs": []
    },
    {
      "cell_type": "code",
      "metadata": {
        "id": "ZAAV9rEbh8w4"
      },
      "source": [
        "X_train2 = lc_X_train.merge(hc_X_train, on=lc_X_train.index)"
      ],
      "execution_count": null,
      "outputs": []
    },
    {
      "cell_type": "code",
      "metadata": {
        "id": "h_TRmBy8iAAo"
      },
      "source": [
        "X_test2 = lc_X_test.merge(hc_X_test, on=lc_X_test.index)"
      ],
      "execution_count": null,
      "outputs": []
    },
    {
      "cell_type": "code",
      "metadata": {
        "id": "vF_UbxguiCIQ"
      },
      "source": [
        "impute = SimpleImputer(missing_values=np.nan, strategy='mean')\r\n",
        "impute.fit(X_train2, y_train['status_group'])\r\n",
        "X_test2 = impute.transform(X_test2)"
      ],
      "execution_count": null,
      "outputs": []
    },
    {
      "cell_type": "code",
      "metadata": {
        "colab": {
          "base_uri": "https://localhost:8080/"
        },
        "id": "wY0WtygfiFdo",
        "outputId": "21c39993-eb96-42ec-8cfb-6ee553d76f1c"
      },
      "source": [
        "print('Baseline Accuracy is:', df['status_group'].value_counts(normalize=True).max())"
      ],
      "execution_count": null,
      "outputs": [
        {
          "output_type": "stream",
          "text": [
            "Baseline Accuracy is: 0.543080808080808\n"
          ],
          "name": "stdout"
        }
      ]
    },
    {
      "cell_type": "code",
      "metadata": {
        "id": "CC15LqRiiHlm"
      },
      "source": [
        "rf = make_pipeline(\r\n",
        "    SimpleImputer(),\r\n",
        "    RandomForestClassifier()\r\n",
        ")"
      ],
      "execution_count": null,
      "outputs": []
    },
    {
      "cell_type": "code",
      "metadata": {
        "id": "gyPUr_s1iMUl"
      },
      "source": [
        "rf_cvs = cross_val_score(rf, X_train2, y_train, cv=5, n_jobs=-1)"
      ],
      "execution_count": null,
      "outputs": []
    },
    {
      "cell_type": "code",
      "metadata": {
        "colab": {
          "base_uri": "https://localhost:8080/"
        },
        "id": "Rb_zZkDJiO0I",
        "outputId": "e910b970-b215-41f6-d9f7-5e668e6c855c"
      },
      "source": [
        "print(rf_cvs)\r\n",
        "print(rf_cvs.mean())\r\n",
        "print(rf_cvs.std())"
      ],
      "execution_count": null,
      "outputs": [
        {
          "output_type": "stream",
          "text": [
            "[0.81363636 0.80715488 0.81599327 0.81069024 0.80656566]\n",
            "0.8108080808080809\n",
            "0.0036398692417630787\n"
          ],
          "name": "stdout"
        }
      ]
    },
    {
      "cell_type": "code",
      "metadata": {
        "id": "sKcHNlJ_iRcf"
      },
      "source": [
        "parasect = {'randomforestclassifier__n_estimators': np.arange(20, 61, 20),\r\n",
        "         'randomforestclassifier__max_depth': np.arange(10, 31, 10),\r\n",
        "         'randomforestclassifier__max_samples': np.arange(0.3, 0.71, 0.2)}"
      ],
      "execution_count": null,
      "outputs": []
    },
    {
      "cell_type": "code",
      "metadata": {
        "id": "lVKXsyTyiUXK"
      },
      "source": [
        "rf_gs = GridSearchCV(rf, parasect, cv=5, n_jobs=-1, verbose=1)"
      ],
      "execution_count": null,
      "outputs": []
    },
    {
      "cell_type": "code",
      "metadata": {
        "colab": {
          "base_uri": "https://localhost:8080/"
        },
        "id": "V7qqmc8KiWGr",
        "outputId": "6c45f170-b5a1-41a2-eddc-d2ecf035adae"
      },
      "source": [
        "rf_gs.fit(X_train2, y_train)"
      ],
      "execution_count": null,
      "outputs": [
        {
          "output_type": "stream",
          "text": [
            "Fitting 5 folds for each of 27 candidates, totalling 135 fits\n"
          ],
          "name": "stdout"
        },
        {
          "output_type": "stream",
          "text": [
            "[Parallel(n_jobs=-1)]: Using backend LokyBackend with 2 concurrent workers.\n",
            "[Parallel(n_jobs=-1)]: Done  46 tasks      | elapsed:  3.1min\n",
            "[Parallel(n_jobs=-1)]: Done 135 out of 135 | elapsed: 12.1min finished\n",
            "/usr/local/lib/python3.6/dist-packages/sklearn/pipeline.py:354: DataConversionWarning: A column-vector y was passed when a 1d array was expected. Please change the shape of y to (n_samples,), for example using ravel().\n",
            "  self._final_estimator.fit(Xt, y, **fit_params)\n"
          ],
          "name": "stderr"
        },
        {
          "output_type": "execute_result",
          "data": {
            "text/plain": [
              "GridSearchCV(cv=5, error_score=nan,\n",
              "             estimator=Pipeline(memory=None,\n",
              "                                steps=[('simpleimputer',\n",
              "                                        SimpleImputer(add_indicator=False,\n",
              "                                                      copy=True,\n",
              "                                                      fill_value=None,\n",
              "                                                      missing_values=nan,\n",
              "                                                      strategy='mean',\n",
              "                                                      verbose=0)),\n",
              "                                       ('randomforestclassifier',\n",
              "                                        RandomForestClassifier(bootstrap=True,\n",
              "                                                               ccp_alpha=0.0,\n",
              "                                                               class_weight=None,\n",
              "                                                               criterion='gini',\n",
              "                                                               max_depth=None,\n",
              "                                                               max_features='auto',\n",
              "                                                               max_le...\n",
              "                                                               random_state=None,\n",
              "                                                               verbose=0,\n",
              "                                                               warm_start=False))],\n",
              "                                verbose=False),\n",
              "             iid='deprecated', n_jobs=-1,\n",
              "             param_grid={'randomforestclassifier__max_depth': array([10, 20, 30]),\n",
              "                         'randomforestclassifier__max_samples': array([0.3, 0.5, 0.7]),\n",
              "                         'randomforestclassifier__n_estimators': array([20, 40, 60])},\n",
              "             pre_dispatch='2*n_jobs', refit=True, return_train_score=False,\n",
              "             scoring=None, verbose=1)"
            ]
          },
          "metadata": {
            "tags": []
          },
          "execution_count": 28
        }
      ]
    },
    {
      "cell_type": "code",
      "metadata": {
        "colab": {
          "base_uri": "https://localhost:8080/"
        },
        "id": "3mxHnG9uibxv",
        "outputId": "b88894db-b72c-4abc-cdba-3cb067f1a468"
      },
      "source": [
        "rf_gs.best_estimator_"
      ],
      "execution_count": null,
      "outputs": [
        {
          "output_type": "execute_result",
          "data": {
            "text/plain": [
              "Pipeline(memory=None,\n",
              "         steps=[('simpleimputer',\n",
              "                 SimpleImputer(add_indicator=False, copy=True, fill_value=None,\n",
              "                               missing_values=nan, strategy='mean',\n",
              "                               verbose=0)),\n",
              "                ('randomforestclassifier',\n",
              "                 RandomForestClassifier(bootstrap=True, ccp_alpha=0.0,\n",
              "                                        class_weight=None, criterion='gini',\n",
              "                                        max_depth=30, max_features='auto',\n",
              "                                        max_leaf_nodes=None, max_samples=0.7,\n",
              "                                        min_impurity_decrease=0.0,\n",
              "                                        min_impurity_split=None,\n",
              "                                        min_samples_leaf=1, min_samples_split=2,\n",
              "                                        min_weight_fraction_leaf=0.0,\n",
              "                                        n_estimators=60, n_jobs=None,\n",
              "                                        oob_score=False, random_state=None,\n",
              "                                        verbose=0, warm_start=False))],\n",
              "         verbose=False)"
            ]
          },
          "metadata": {
            "tags": []
          },
          "execution_count": 29
        }
      ]
    },
    {
      "cell_type": "code",
      "metadata": {
        "colab": {
          "base_uri": "https://localhost:8080/"
        },
        "id": "aryMIssPmGGm",
        "outputId": "d6a502b7-31bc-420a-ef5c-846f3704fed4"
      },
      "source": [
        "rf_gs.best_score_"
      ],
      "execution_count": null,
      "outputs": [
        {
          "output_type": "execute_result",
          "data": {
            "text/plain": [
              "0.8112962962962964"
            ]
          },
          "metadata": {
            "tags": []
          },
          "execution_count": 30
        }
      ]
    },
    {
      "cell_type": "code",
      "metadata": {
        "id": "xyn9Ss-Smb_B"
      },
      "source": [
        "y_pred = rf_gs.predict(X_test2)"
      ],
      "execution_count": null,
      "outputs": []
    },
    {
      "cell_type": "code",
      "metadata": {
        "id": "xRFHYrSbm0jL"
      },
      "source": [
        "from sklearn.metrics import classification_report, plot_confusion_matrix"
      ],
      "execution_count": null,
      "outputs": []
    },
    {
      "cell_type": "code",
      "metadata": {
        "colab": {
          "base_uri": "https://localhost:8080/",
          "height": 279
        },
        "id": "7cwEce5rnE7S",
        "outputId": "0758fe69-3cc2-4f0c-f546-0884042523c6"
      },
      "source": [
        "plot_confusion_matrix(rf_gs, X_train2, y_train, values_format='.0f');"
      ],
      "execution_count": null,
      "outputs": [
        {
          "output_type": "display_data",
          "data": {
            "image/png": "[encoded data removed]",
            "text/plain": [
              "<Figure size 432x288 with 2 Axes>"
            ]
          },
          "metadata": {
            "tags": [],
            "needs_background": "light"
          }
        }
      ]
    },
    {
      "cell_type": "code",
      "metadata": {
        "colab": {
          "base_uri": "https://localhost:8080/"
        },
        "id": "Dg0Lrc0CpWmP",
        "outputId": "b7c33f1f-ed08-4a8d-83db-a91593b435b6"
      },
      "source": [
        "accuracy = (32156+3852+22140)/(32156+11+92+407+3852+58+672+12+22140)\r\n",
        "accuracy"
      ],
      "execution_count": null,
      "outputs": [
        {
          "output_type": "execute_result",
          "data": {
            "text/plain": [
              "0.978922558922559"
            ]
          },
          "metadata": {
            "tags": []
          },
          "execution_count": 45
        }
      ]
    },
    {
      "cell_type": "code",
      "metadata": {
        "colab": {
          "base_uri": "https://localhost:8080/"
        },
        "id": "9ILZeFifpi85",
        "outputId": "b84907c1-f514-4a98-a9c0-da573ecc2a4a"
      },
      "source": [
        "precision = 22140/(22140+58+92)\r\n",
        "precision"
      ],
      "execution_count": null,
      "outputs": [
        {
          "output_type": "execute_result",
          "data": {
            "text/plain": [
              "0.9932705248990579"
            ]
          },
          "metadata": {
            "tags": []
          },
          "execution_count": 47
        }
      ]
    },
    {
      "cell_type": "code",
      "metadata": {
        "colab": {
          "base_uri": "https://localhost:8080/"
        },
        "id": "gnzEc5AQpwsc",
        "outputId": "ec4d939f-4303-475c-bf0a-7eeb617bbc30"
      },
      "source": [
        "recall = 22140/(22140+12+672)\r\n",
        "recall"
      ],
      "execution_count": null,
      "outputs": [
        {
          "output_type": "execute_result",
          "data": {
            "text/plain": [
              "0.9700315457413249"
            ]
          },
          "metadata": {
            "tags": []
          },
          "execution_count": 48
        }
      ]
    },
    {
      "cell_type": "code",
      "metadata": {
        "colab": {
          "base_uri": "https://localhost:8080/"
        },
        "id": "FCG_Mf9kqAiZ",
        "outputId": "5ffb86fe-833c-4ce6-c1d5-68c30b42c068"
      },
      "source": [
        "f1 = 2*(precision*recall)/(precision+recall)\r\n",
        "f1"
      ],
      "execution_count": null,
      "outputs": [
        {
          "output_type": "execute_result",
          "data": {
            "text/plain": [
              "0.9815134991355233"
            ]
          },
          "metadata": {
            "tags": []
          },
          "execution_count": 49
        }
      ]
    },
    {
      "cell_type": "code",
      "metadata": {
        "id": "VIF_liC6n5mw"
      },
      "source": [
        "data = {'id': test.index, 'status_group': y_pred}\r\n",
        "submission = pd.DataFrame(data)"
      ],
      "execution_count": null,
      "outputs": []
    },
    {
      "cell_type": "code",
      "metadata": {
        "colab": {
          "base_uri": "https://localhost:8080/",
          "height": 204
        },
        "id": "H1zrb5XHoYFA",
        "outputId": "f2015767-692c-478f-bac5-7d72bc6b2340"
      },
      "source": [
        "submission.head()"
      ],
      "execution_count": null,
      "outputs": [
        {
          "output_type": "execute_result",
          "data": {
            "text/html": [
              "<div>\n",
              "<style scoped>\n",
              "    .dataframe tbody tr th:only-of-type {\n",
              "        vertical-align: middle;\n",
              "    }\n",
              "\n",
              "    .dataframe tbody tr th {\n",
              "        vertical-align: top;\n",
              "    }\n",
              "\n",
              "    .dataframe thead th {\n",
              "        text-align: right;\n",
              "    }\n",
              "</style>\n",
              "<table border=\"1\" class=\"dataframe\">\n",
              "  <thead>\n",
              "    <tr style=\"text-align: right;\">\n",
              "      <th></th>\n",
              "      <th>id</th>\n",
              "      <th>status_group</th>\n",
              "    </tr>\n",
              "  </thead>\n",
              "  <tbody>\n",
              "    <tr>\n",
              "      <th>0</th>\n",
              "      <td>50785</td>\n",
              "      <td>functional</td>\n",
              "    </tr>\n",
              "    <tr>\n",
              "      <th>1</th>\n",
              "      <td>51630</td>\n",
              "      <td>functional</td>\n",
              "    </tr>\n",
              "    <tr>\n",
              "      <th>2</th>\n",
              "      <td>17168</td>\n",
              "      <td>functional</td>\n",
              "    </tr>\n",
              "    <tr>\n",
              "      <th>3</th>\n",
              "      <td>45559</td>\n",
              "      <td>non functional</td>\n",
              "    </tr>\n",
              "    <tr>\n",
              "      <th>4</th>\n",
              "      <td>49871</td>\n",
              "      <td>functional</td>\n",
              "    </tr>\n",
              "  </tbody>\n",
              "</table>\n",
              "</div>"
            ],
            "text/plain": [
              "      id    status_group\n",
              "0  50785      functional\n",
              "1  51630      functional\n",
              "2  17168      functional\n",
              "3  45559  non functional\n",
              "4  49871      functional"
            ]
          },
          "metadata": {
            "tags": []
          },
          "execution_count": 40
        }
      ]
    },
    {
      "cell_type": "code",
      "metadata": {
        "id": "q5VRNysFod-z"
      },
      "source": [
        "submission.set_index('id', inplace=True)"
      ],
      "execution_count": null,
      "outputs": []
    },
    {
      "cell_type": "code",
      "metadata": {
        "colab": {
          "base_uri": "https://localhost:8080/",
          "height": 235
        },
        "id": "-IYRUMrVoo9g",
        "outputId": "e3268ec1-b068-448b-cde8-7631decffd11"
      },
      "source": [
        "submission.head()"
      ],
      "execution_count": null,
      "outputs": [
        {
          "output_type": "execute_result",
          "data": {
            "text/html": [
              "<div>\n",
              "<style scoped>\n",
              "    .dataframe tbody tr th:only-of-type {\n",
              "        vertical-align: middle;\n",
              "    }\n",
              "\n",
              "    .dataframe tbody tr th {\n",
              "        vertical-align: top;\n",
              "    }\n",
              "\n",
              "    .dataframe thead th {\n",
              "        text-align: right;\n",
              "    }\n",
              "</style>\n",
              "<table border=\"1\" class=\"dataframe\">\n",
              "  <thead>\n",
              "    <tr style=\"text-align: right;\">\n",
              "      <th></th>\n",
              "      <th>status_group</th>\n",
              "    </tr>\n",
              "    <tr>\n",
              "      <th>id</th>\n",
              "      <th></th>\n",
              "    </tr>\n",
              "  </thead>\n",
              "  <tbody>\n",
              "    <tr>\n",
              "      <th>50785</th>\n",
              "      <td>functional</td>\n",
              "    </tr>\n",
              "    <tr>\n",
              "      <th>51630</th>\n",
              "      <td>functional</td>\n",
              "    </tr>\n",
              "    <tr>\n",
              "      <th>17168</th>\n",
              "      <td>functional</td>\n",
              "    </tr>\n",
              "    <tr>\n",
              "      <th>45559</th>\n",
              "      <td>non functional</td>\n",
              "    </tr>\n",
              "    <tr>\n",
              "      <th>49871</th>\n",
              "      <td>functional</td>\n",
              "    </tr>\n",
              "  </tbody>\n",
              "</table>\n",
              "</div>"
            ],
            "text/plain": [
              "         status_group\n",
              "id                   \n",
              "50785      functional\n",
              "51630      functional\n",
              "17168      functional\n",
              "45559  non functional\n",
              "49871      functional"
            ]
          },
          "metadata": {
            "tags": []
          },
          "execution_count": 42
        }
      ]
    },
    {
      "cell_type": "code",
      "metadata": {
        "id": "EPpgvsZJor-i"
      },
      "source": [
        "submission.to_csv('Submission.csv')"
      ],
      "execution_count": null,
      "outputs": []
    }
  ]
}