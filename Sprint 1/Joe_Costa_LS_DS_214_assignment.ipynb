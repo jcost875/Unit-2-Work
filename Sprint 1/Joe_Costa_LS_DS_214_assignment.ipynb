{
  "nbformat": 4,
  "nbformat_minor": 0,
  "metadata": {
    "kernelspec": {
      "display_name": "Python 3",
      "language": "python",
      "name": "python3"
    },
    "language_info": {
      "codemirror_mode": {
        "name": "ipython",
        "version": 3
      },
      "file_extension": ".py",
      "mimetype": "text/x-python",
      "name": "python",
      "nbconvert_exporter": "python",
      "pygments_lexer": "ipython3",
      "version": "3.7.3"
    },
    "colab": {
      "name": "Joe_Costa LS_DS_214_assignment.ipynb",
      "provenance": [],
      "collapsed_sections": []
    }
  },
  "cells": [
    {
      "cell_type": "markdown",
      "metadata": {
        "id": "9RTT14r5VqaP"
      },
      "source": [
        "Lambda School Data Science\n",
        "\n",
        "*Unit 2, Sprint 1, Module 4*\n",
        "\n",
        "---"
      ]
    },
    {
      "cell_type": "markdown",
      "metadata": {
        "id": "7IXUfiQ2UKj6"
      },
      "source": [
        "# Logistic Regression\n",
        "\n",
        "\n",
        "## Assignment 🌯\n",
        "\n",
        "You'll use a [**dataset of 400+ burrito reviews**](https://srcole.github.io/100burritos/). How accurately can you predict whether a burrito is rated 'Great'?\n",
        "\n",
        "> We have developed a 10-dimensional system for rating the burritos in San Diego. ... Generate models for what makes a burrito great and investigate correlations in its dimensions.\n",
        "\n",
        "- [ ] Do train/validate/test split. Train on reviews from 2016 & earlier. Validate on 2017. Test on 2018 & later.\n",
        "- [ ] Begin with baselines for classification.\n",
        "- [ ] Use scikit-learn for logistic regression.\n",
        "- [ ] Get your model's validation accuracy. (Multiple times if you try multiple iterations.)\n",
        "- [ ] Get your model's test accuracy. (One time, at the end.)\n",
        "- [ ] Commit your notebook to your fork of the GitHub repo.\n",
        "\n",
        "\n",
        "## Stretch Goals\n",
        "\n",
        "- [ ] Add your own stretch goal(s) !\n",
        "- [ ] Make exploratory visualizations.\n",
        "- [ ] Do one-hot encoding.\n",
        "- [ ] Do [feature scaling](https://scikit-learn.org/stable/modules/preprocessing.html).\n",
        "- [ ] Get and plot your coefficients.\n",
        "- [ ] Try [scikit-learn pipelines](https://scikit-learn.org/stable/modules/compose.html)."
      ]
    },
    {
      "cell_type": "markdown",
      "metadata": {
        "id": "vxNyo22pqtNl"
      },
      "source": [
        "# Let's wrangle, baby"
      ]
    },
    {
      "cell_type": "code",
      "metadata": {
        "id": "o9eSnDYhUGD7"
      },
      "source": [
        "%%capture\n",
        "import sys\n",
        "\n",
        "# If you're on Colab:\n",
        "if 'google.colab' in sys.modules:\n",
        "    DATA_PATH = 'https://raw.githubusercontent.com/LambdaSchool/DS-Unit-2-Linear-Models/master/data/'\n",
        "    !pip install category_encoders==2.*\n",
        "\n",
        "# If you're working locally:\n",
        "else:\n",
        "    DATA_PATH = '../data/'"
      ],
      "execution_count": 14,
      "outputs": []
    },
    {
      "cell_type": "code",
      "metadata": {
        "id": "hPmDbhA76B4V"
      },
      "source": [
        "import numpy as np"
      ],
      "execution_count": 83,
      "outputs": []
    },
    {
      "cell_type": "code",
      "metadata": {
        "id": "VpS73JwTVqaV"
      },
      "source": [
        "# Load data downloaded from https://srcole.github.io/100burritos/\n",
        "import pandas as pd\n",
        "df = pd.read_csv(DATA_PATH+'burritos/burritos.csv', parse_dates=['Date'])"
      ],
      "execution_count": 35,
      "outputs": []
    },
    {
      "cell_type": "code",
      "metadata": {
        "id": "DZd1Js9NVqaV"
      },
      "source": [
        "# Derive binary classification target:\n",
        "# We define a 'Great' burrito as having an\n",
        "# overall rating of 4 or higher, on a 5 point scale.\n",
        "# Drop unrated burritos.\n",
        "df = df.dropna(subset=['overall'])\n",
        "df['Great'] = df['overall'] >= 4"
      ],
      "execution_count": 36,
      "outputs": []
    },
    {
      "cell_type": "code",
      "metadata": {
        "id": "6Aqe8ey0VqaW"
      },
      "source": [
        "# Clean/combine the Burrito categories\n",
        "df['Burrito'] = df['Burrito'].str.lower()\n",
        "\n",
        "california = df['Burrito'].str.contains('california')\n",
        "asada = df['Burrito'].str.contains('asada')\n",
        "surf = df['Burrito'].str.contains('surf')\n",
        "carnitas = df['Burrito'].str.contains('carnitas')\n",
        "\n",
        "df.loc[california, 'Burrito'] = 'California'\n",
        "df.loc[asada, 'Burrito'] = 'Asada'\n",
        "df.loc[surf, 'Burrito'] = 'Surf & Turf'\n",
        "df.loc[carnitas, 'Burrito'] = 'Carnitas'\n",
        "df.loc[~california & ~asada & ~surf & ~carnitas, 'Burrito'] = 'Other'"
      ],
      "execution_count": 37,
      "outputs": []
    },
    {
      "cell_type": "code",
      "metadata": {
        "id": "f8iywum1VqaW"
      },
      "source": [
        "# Drop some high cardinality categoricals\n",
        "df = df.drop(columns=['Notes', 'Location', 'Reviewer', 'Address', 'URL', 'Neighborhood'])"
      ],
      "execution_count": 38,
      "outputs": []
    },
    {
      "cell_type": "code",
      "metadata": {
        "id": "o6RQ1OseVqaW"
      },
      "source": [
        "# Drop some columns to prevent \"leakage\"\n",
        "df = df.drop(columns=['Rec', 'overall'])"
      ],
      "execution_count": 39,
      "outputs": []
    },
    {
      "cell_type": "markdown",
      "metadata": {
        "id": "8vGk3ab3q13l"
      },
      "source": [
        "# Let's get to splitting"
      ]
    },
    {
      "cell_type": "code",
      "metadata": {
        "id": "5_BGr7MAVqaW"
      },
      "source": [
        "# Reindex so we can slice on dates later\r\n",
        "df.set_index('Date', inplace=True)"
      ],
      "execution_count": 40,
      "outputs": []
    },
    {
      "cell_type": "code",
      "metadata": {
        "id": "lX92aXsPfYuG"
      },
      "source": [
        "# Separate our target vector from our feature matrix\r\n",
        "target = 'Great'\r\n",
        "y = df[target]\r\n",
        "X = df.drop(columns=target)"
      ],
      "execution_count": 41,
      "outputs": []
    },
    {
      "cell_type": "code",
      "metadata": {
        "id": "vMtj5u3Mfxsj"
      },
      "source": [
        "# Split along cutoff dates for our train/validate/test sets\r\n",
        "cutoff1 = '2017-01-01'\r\n",
        "cutoff2 = '2018-01-01'\r\n",
        "\r\n",
        "mask = X.index < cutoff1\r\n",
        "mask2 = (X.index >= cutoff1) & (X.index < cutoff2)\r\n",
        "mask3 = X.index >= cutoff2\r\n",
        "\r\n",
        "X_train, y_train = X.loc[mask], y.loc[mask]\r\n",
        "X_validate, y_validate = X.loc[mask2], y.loc[mask2]\r\n",
        "X_test, y_test = X.loc[mask3], y.loc[mask3]"
      ],
      "execution_count": 43,
      "outputs": []
    },
    {
      "cell_type": "code",
      "metadata": {
        "id": "GX-4kvtuG0Jw"
      },
      "source": [
        "print(X_train.shape)\r\n",
        "print(X_validate.shape)\r\n",
        "print(X_test.shape)"
      ],
      "execution_count": null,
      "outputs": []
    },
    {
      "cell_type": "markdown",
      "metadata": {
        "id": "oHmXq3i3qrm6"
      },
      "source": [
        "# Woo-Hoo, it's *Baseline* time"
      ]
    },
    {
      "cell_type": "code",
      "metadata": {
        "colab": {
          "base_uri": "https://localhost:8080/"
        },
        "id": "VPBXTJduqrGP",
        "outputId": "1b407cec-55ab-44b4-dac1-398bbafd9f68"
      },
      "source": [
        "# Establish our baseline accuracy so we know what we're comparing to\r\n",
        "print('Baseline Accuracy Score:', y_train.value_counts(normalize=True).max())"
      ],
      "execution_count": 47,
      "outputs": [
        {
          "output_type": "stream",
          "text": [
            "Baseline Accuracy Score: 0.5906040268456376\n"
          ],
          "name": "stdout"
        }
      ]
    },
    {
      "cell_type": "markdown",
      "metadata": {
        "id": "Sl8PMC4_rqhv"
      },
      "source": [
        "# Welcome to model building city, population: You"
      ]
    },
    {
      "cell_type": "code",
      "metadata": {
        "id": "KgJqC3g3r0L0"
      },
      "source": [
        "import matplotlib.pyplot as plt\r\n",
        "from category_encoders import OneHotEncoder\r\n",
        "from sklearn.preprocessing import StandardScaler\r\n",
        "from sklearn.impute import SimpleImputer\r\n",
        "from sklearn.pipeline import make_pipeline\r\n",
        "from sklearn.linear_model import LogisticRegression"
      ],
      "execution_count": 49,
      "outputs": []
    },
    {
      "cell_type": "code",
      "metadata": {
        "colab": {
          "base_uri": "https://localhost:8080/"
        },
        "id": "E9nfS1LGtYEq",
        "outputId": "f164f908-3146-48a8-c7ac-438ac9663244"
      },
      "source": [
        "# Let's get that pipeline loaded up\r\n",
        "model = make_pipeline(\r\n",
        "    OneHotEncoder(use_cat_names=True, handle_unknown='ignore'),\r\n",
        "    SimpleImputer(strategy='constant', fill_value=0),\r\n",
        "    StandardScaler(),\r\n",
        "    LogisticRegression()\r\n",
        ")\r\n",
        "\r\n",
        "model.fit(X_train, y_train);"
      ],
      "execution_count": 97,
      "outputs": [
        {
          "output_type": "stream",
          "text": [
            "/usr/local/lib/python3.6/dist-packages/category_encoders/utils.py:21: FutureWarning: is_categorical is deprecated and will be removed in a future version.  Use is_categorical_dtype instead\n",
            "  elif pd.api.types.is_categorical(cols):\n"
          ],
          "name": "stderr"
        }
      ]
    },
    {
      "cell_type": "markdown",
      "metadata": {
        "id": "-84vzmIqwuri"
      },
      "source": [
        "# Is it hot in here? Nope, we're just checking our metrics"
      ]
    },
    {
      "cell_type": "code",
      "metadata": {
        "colab": {
          "base_uri": "https://localhost:8080/"
        },
        "id": "Yg9oc6UYvelP",
        "outputId": "dbd8ce76-6a43-4e7a-92c9-eacb92ccb1b2"
      },
      "source": [
        "print('Training Accuracy:', model.score(X_train, y_train))\r\n",
        "print('Validation Accuracy:', model.score(X_validate, y_validate))\r\n",
        "print('Test Accuracy:', model.score(X_test, y_test))"
      ],
      "execution_count": 93,
      "outputs": [
        {
          "output_type": "stream",
          "text": [
            "Training Accuracy: 0.9295302013422819\n",
            "Validation Accuracy: 0.8117647058823529\n",
            "Test Accuracy: 0.7631578947368421\n"
          ],
          "name": "stdout"
        }
      ]
    },
    {
      "cell_type": "markdown",
      "metadata": {
        "id": "_rJHhf_IOc0Z"
      },
      "source": [
        "# Curious what features make the most difference on our predictions?  Me too!"
      ]
    },
    {
      "cell_type": "code",
      "metadata": {
        "colab": {
          "base_uri": "https://localhost:8080/",
          "height": 265
        },
        "id": "YWgJ_t5-H-9P",
        "outputId": "54425ca3-8adf-407c-f571-abb1f8a336d7"
      },
      "source": [
        "# Create a plot of our coefficients\r\n",
        "features = model.named_steps['onehotencoder'].get_feature_names()\r\n",
        "coefficients = model.named_steps['logisticregression'].coef_[0]\r\n",
        "feat_importance = pd.Series(coefficients, index=features).sort_values(key=abs)\r\n",
        "feat_importance.tail(10).plot(kind='barh');"
      ],
      "execution_count": 112,
      "outputs": [
        {
          "output_type": "display_data",
          "data": {
            "image/png": "[encoded data removed]",
            "text/plain": [
              "<Figure size 432x288 with 1 Axes>"
            ]
          },
          "metadata": {
            "tags": [],
            "needs_background": "light"
          }
        }
      ]
    }
  ]
}